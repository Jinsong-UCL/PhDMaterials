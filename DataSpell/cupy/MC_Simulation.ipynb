{
 "cells": [
  {
   "cell_type": "code",
   "execution_count": 13,
   "metadata": {
    "collapsed": true
   },
   "outputs": [
    {
     "name": "stdout",
     "output_type": "stream",
     "text": [
      "Requirement already satisfied: numpy in c:\\users\\hutao\\anaconda3\\envs\\cupy\\lib\\site-packages (1.24.2)\n"
     ]
    }
   ],
   "source": [
    "! pip install numpy\n",
    "import numpy as np"
   ]
  },
  {
   "cell_type": "code",
   "execution_count": 14,
   "outputs": [
    {
     "ename": "ValueError",
     "evalue": "could not broadcast input array from shape (4,) into shape (1,)",
     "output_type": "error",
     "traceback": [
      "\u001B[1;31m---------------------------------------------------------------------------\u001B[0m",
      "\u001B[1;31mValueError\u001B[0m                                Traceback (most recent call last)",
      "Cell \u001B[1;32mIn[14], line 54\u001B[0m\n\u001B[0;32m     51\u001B[0m x \u001B[38;5;241m=\u001B[39m np\u001B[38;5;241m.\u001B[39mzeros((nsteps\u001B[38;5;241m+\u001B[39m\u001B[38;5;241m1\u001B[39m,\u001B[38;5;241m1\u001B[39m));\n\u001B[0;32m     53\u001B[0m \u001B[38;5;28;01mfor\u001B[39;00m step \u001B[38;5;129;01min\u001B[39;00m \u001B[38;5;28mrange\u001B[39m(nsteps):\n\u001B[1;32m---> 54\u001B[0m     sum_y_1[step] \u001B[38;5;241m=\u001B[39m y[step,:] \u001B[38;5;241m*\u001B[39m (a_i\u001B[38;5;241m*\u001B[39m\u001B[38;5;241m*\u001B[39m\u001B[38;5;241m2\u001B[39m \u001B[38;5;241m-\u001B[39m a_j\u001B[38;5;241m*\u001B[39m\u001B[38;5;241m*\u001B[39m\u001B[38;5;241m2\u001B[39m);\n\u001B[0;32m     55\u001B[0m     mu[step] \u001B[38;5;241m=\u001B[39m np\u001B[38;5;241m.\u001B[39minner(y[step,:],h) \u001B[38;5;241m+\u001B[39m \u001B[38;5;241m0.5\u001B[39m \u001B[38;5;241m*\u001B[39m (sum_y_1[step]);\n\u001B[0;32m     56\u001B[0m     sum_y_2[step] \u001B[38;5;241m=\u001B[39m y[step,:]\u001B[38;5;241m*\u001B[39m\u001B[38;5;241m*\u001B[39m\u001B[38;5;241m0.5\u001B[39m \u001B[38;5;241m*\u001B[39m dW[step,:] \u001B[38;5;241m*\u001B[39m [a_i\u001B[38;5;241m-\u001B[39ma_j];\n",
      "\u001B[1;31mValueError\u001B[0m: could not broadcast input array from shape (4,) into shape (1,)"
     ]
    }
   ],
   "source": [
    "# Market parameters\n",
    "S0 = 1; # spot exchange rate\n",
    "# Contract parameters\n",
    "T = 1; # maturity\n",
    "K = 1; # strike price\n",
    "y_0 = np.array([0.05,0.06,0.1244,0.0591]);\n",
    "# Interest rate coefficients or weights\n",
    "a_i = np.array([1.004,000000,0.6650, 1.0985]);\n",
    "a_j = np.array([0000000,1.0006,1.6177, 1.3588]);\n",
    "# Mean-reversion rate (or strength) of the interest rate\n",
    "kappa = np.array([0.02,0.02,0.9418,1.7909]);\n",
    "# Long-term average of the interest rate\n",
    "y_bar = np.array([0.05,0.06,0.037,0.0909]);\n",
    "# Volatility of the interest rate\n",
    "sigma = np.array([0.002,0.002,0.4912,0.08]);\n",
    "# Correlations\n",
    "rho = np.array([0.5231,-0.398,-0.23,-0.81]);\n",
    "# Auxiliary parameters\n",
    "a_ij_minus = a_i - a_j;\n",
    "a_ij_plus = a_i + a_j;\n",
    "a_ij_rho = np.multiply(rho,a_ij_minus);\n",
    "a_ij_division = np.divide(a_ij_plus,a_ij_minus);\n",
    "h = np.array([1,-1,0,0]);\n",
    "\n",
    "d = 4;\n",
    "# Number of simulations\n",
    "nsimulations = 500;\n",
    "# Number of steps\n",
    "nsteps = 25;\n",
    "dt = T/nsteps;\n",
    "# Initialize calls\n",
    "VcMC = np.zeros(nsimulations);\n",
    "VpMC = np.zeros(nsimulations);\n",
    "\n",
    "for simulation in range(nsimulations):\n",
    "    y = np.zeros((nsteps+1,d));\n",
    "    y[0,:] = y_0;\n",
    "    # corr (dW_v, dZ_v) = rho_v\n",
    "    dW_1 = np.random.normal(size=(nsteps,d));\n",
    "    dW_2 = np.random.normal(size=(nsteps,d));\n",
    "    dW_3 = dW_1*rho + dW_2*(1-rho**2)**0.5;\n",
    "    dW = dW_1 * np.sqrt(dt);\n",
    "    dZ = dW_3 * np.sqrt(dt);\n",
    "\n",
    "    for step in range(nsteps):\n",
    "        y[step+1,:] = np.maximum((y[step,:] + (y_bar - y[step,:]) * kappa * dt + np.sqrt(y[step,:]) * dZ[step,:]* sigma),0);\n",
    "\n",
    "    sum_y_1 = np.zeros((nsteps,1));\n",
    "    sum_y_2 = np.zeros((nsteps,1));\n",
    "    mu = np.zeros((nsteps,1));\n",
    "    x = np.zeros((nsteps+1,1));\n",
    "\n",
    "    for step in range(nsteps):\n",
    "        sum_y_1[step] = y[step,:] * (a_i**2 - a_j**2);\n",
    "        mu[step] = np.inner(y[step,:],h) + 0.5 * (sum_y_1[step]);\n",
    "        sum_y_2[step] = y[step,:]**0.5 * dW[step,:] * [a_i-a_j];\n",
    "        x[step+1] = x[step] + mu[step]*dt + sum_y_2[step];\n",
    "\n",
    "    S_end = S0*np.exp(x(-1));\n",
    "\n",
    "    payoffs_call = max(S_end - K,0);\n",
    "    payoffs_put = max(K - S_end,0);\n",
    "\n",
    "    VcMC[simulation] = np.exp(-y_0(1)*T)*payoffs_call;\n",
    "    VpMC[simulation] = np.exp(-y_0(1)*T)*payoffs_put;\n",
    "\n",
    "simulated_call = np.mean(VcMC);\n",
    "simulated_put = np.mean(VpMC);\n"
   ],
   "metadata": {
    "collapsed": false
   }
  }
 ],
 "metadata": {
  "kernelspec": {
   "display_name": "Python 3",
   "language": "python",
   "name": "python3"
  },
  "language_info": {
   "codemirror_mode": {
    "name": "ipython",
    "version": 2
   },
   "file_extension": ".py",
   "mimetype": "text/x-python",
   "name": "python",
   "nbconvert_exporter": "python",
   "pygments_lexer": "ipython2",
   "version": "2.7.6"
  }
 },
 "nbformat": 4,
 "nbformat_minor": 0
}
