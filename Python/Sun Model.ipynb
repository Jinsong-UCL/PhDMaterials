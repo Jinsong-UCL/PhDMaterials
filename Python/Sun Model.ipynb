{
 "cells": [
  {
   "cell_type": "markdown",
   "source": [
    "# Intergral formulas for call and put options\n",
    "\n",
    "call option:\n",
    "\\begin{equation}\n",
    "    C\\left(S_{0}^{i, j}, T, E, \\underline{r}(0), \\underline{v}(0)\\right)=E^{Q}\\left(\\frac{\\left(S_{0}^{i, j} e^{x_{T}}-E\\right)_{+}}{e^{\\int_{0}^{T} r_{i}(t) d t}}\\right)\n",
    "\\end{equation}\n",
    "\n",
    "put option:\n",
    "\\begin{equation}\n",
    "    P\\left(S_{0}^{i, j}, T, E, \\underline{r}(0), \\underline{v}(0)\\right)=E^{Q}\\left(\\frac{\\left(E-S_{0}^{i, j} e^{x_{T}}\\right)_{+}}{e^{T_{0}^{T} r_{i}(t) d t}}\\right)\n",
    "\\end{equation}\n"
   ],
   "metadata": {
    "collapsed": false
   }
  },
  {
   "cell_type": "markdown",
   "source": [
    "The estimation of stochastic integral\n",
    "\\begin{equation}\n",
    "    e^{-\\int_{0}^{T} r_{i}(t) d t} \\approx e^{-r_{i}(t) \\frac{T}{\\left(1+e^{\\lambda_{i} T}\\right)}-r_{T} \\frac{T e^{\\lambda_{i} T}}{\\left(1+e^{\\lambda_{i} T}\\right)}}\n",
    "\\end{equation}\n",
    "\n"
   ],
   "metadata": {
    "collapsed": false,
    "pycharm": {
     "name": "#%% md\n"
    }
   }
  },
  {
   "cell_type": "markdown",
   "source": [
    "We can have the estimation function of call option\n",
    "\\begin{equation}\n",
    "C_{A}\\left(S_{0}^{i, j}, T, E, \\underline{r_{0}}, \\underline{v_{0}}\\right)= e^{-r_{i}(0) \\frac{T}{\\left(1+e^{\\lambda_{i} T}\\right)}} \\int_{\\ln \\left(E / S_{0}^{i, j}\\right)}^{+\\infty} d x^{\\prime} e^{-q x^{\\prime}}\\left(S_{0}^{i, j} e^{x^{\\prime}}-E\\right)  \\int_{0}^{+\\infty} d r_{i}^{\\prime} e^{-r_{i}^{\\prime}} \\frac{T e^{\\lambda} i}{\\left(1+e^{\\lambda_{i}} T\\right)} \\int_{0}^{+\\infty} d r_{j}^{\\prime} D_{v}\\left(0, \\underline{v_{0}}, \\underline{r_{0}}, 0, \\underline{x^{\\prime}}, \\underline{r}^{\\prime}, T\\right)\n",
    "\\end{equation}"
   ],
   "metadata": {
    "collapsed": false,
    "pycharm": {
     "name": "#%% md\n"
    }
   }
  },
  {
   "cell_type": "markdown",
   "source": [
    "The estimation of put option is\n",
    "\\begin{equation}\n",
    "P_{A}\\left(S_{0}^{i, j}, T, E, \\underline{r_{0}}, \\underline{v_{0}}\\right)= e^{-r_{i}(0) \\frac{T}{\\left(1+e^{\\lambda_{i} T_{1}}\\right)} \\int_{-\\infty}^{\\ln \\left(E / S_{0}^{i, J}\\right)} d x^{\\prime} e^{-q x^{\\prime}}\\left(E-S_{0}^{i, j} e^{x^{\\prime}}\\right)} \\int_{0}^{+\\infty} d r_{i}^{\\prime} e^{-r^{\\prime}} \\frac{T e^{\\lambda_{i} T}}{\\left(1+e^{\\lambda_{i} T_{i}}\\right)} \\int_{0}^{+\\infty} d r_{j}^{\\prime} D_{v}\\left(0, \\underline{v_{0}}, \\underline{r_{0}}, 0, x^{\\prime}, r^{\\prime}, T\\right)\n",
    "\\end{equation}\n"
   ],
   "metadata": {
    "collapsed": false,
    "pycharm": {
     "name": "#%% md\n"
    }
   }
  },
  {
   "cell_type": "markdown",
   "source": [
    "where D in the previous fomula is\n",
    "\\begin{equation}\n",
    "    \\begin{aligned}\n",
    "& D_{v, q}^{Q}\\left(x, \\underline{v}, \\underline{r}, t, x^{\\prime}, \\underline{r}^{\\prime}, t^{\\prime}\\right)=\\prod_{n=0}^{d} \\int_{0}^{+\\infty} d v_{n}^{\\prime} p_{f}^{Q}\\left(x, \\underline{v}, \\underline{r}, t, x^{\\prime}, \\underline{v}^{\\prime}, \\underline{r}^{\\prime}, t^{\\prime}\\right) \\\\\n",
    "=& e^{q\\left(x-x^{\\prime}\\right)} \\frac{1}{2 \\pi} \\int_{-\\infty}^{+\\infty} d k e^{\\imath k\\left(x^{\\prime}-x\\right)} \\underline{W_{v, q}^{z(Q)}}\\left(t^{\\prime}-t, \\underline{v}, k ; \\underline{\\Theta_{v}}\\right) \\underline{L_{r}^{Q}}\\left(t^{\\prime}-t, \\underline{r}, \\underline{r}^{\\prime}, k \\mid \\underline{\\Theta_{r}}\\right)\n",
    "\\end{aligned}\n",
    "\\end{equation}\n"
   ],
   "metadata": {
    "collapsed": false,
    "pycharm": {
     "name": "#%% md\n"
    }
   }
  },
  {
   "cell_type": "markdown",
   "source": [
    "If we choose $q>1$, then we can have\n",
    "\\begin{equation}\n",
    "    \\int_{\\ln \\left(E / S_{0}^{i, j}\\right)}^{+\\infty} d x^{\\prime} e^{-q x^{\\prime}}\\left(S_{0}^{i, j} e^{x^{\\prime}}-E\\right) e^{\\imath k x^{\\prime}}=\\frac{S_{0}^{i, j}\\left(\\frac{S_{0}^{i, j}}{E}\\right)^{q-1-\\imath k}}{-k^{2}-(2 q-1) \\imath k+q(q-1)}\n",
    "\\end{equation}\n"
   ],
   "metadata": {
    "collapsed": false,
    "pycharm": {
     "name": "#%% md\n"
    }
   }
  },
  {
   "cell_type": "markdown",
   "source": [
    "If we choose $q<-1$\n",
    "\\begin{equation}\n",
    "    \\int_{-\\infty}^{\\ln \\left(E / S_{0}^{i, j}\\right)} d x^{\\prime} e^{-q x^{\\prime}}\\left(E-S_{0}^{i, j} e^{x^{\\prime}}\\right) e^{\\imath k x^{\\prime}}=\\frac{S_{0}^{i, j}\\left(\\frac{S_{0}^{i, j}}{E}\\right)^{q-1-\\imath k}}{-k^{2}-(2 q-1) \\imath k+q(q-1)}\n",
    "\\end{equation}"
   ],
   "metadata": {
    "collapsed": false,
    "pycharm": {
     "name": "#%% md\n"
    }
   }
  },
  {
   "cell_type": "markdown",
   "source": [
    "In the case of $q = 2$, we can approximate the call option as\n",
    "\\begin{equation}\n",
    "C_{A}\\left(S_{0}^{i, j}, T, E, \\underline{r_{0}}, \\underline{v_{0}}\\right)=e^{-r_{i}(0) \\frac{T}{\\left(1+e^{\\lambda_{i} T}\\right)}} \\frac{S_{0}^{i, j}}{2 \\pi} \\int_{-\\infty}^{+\\infty} d k \\frac{\\left(\\frac{S_{0}^{i, j}}{E}\\right)^{(1-\\imath k)}}{-k^{2}-3 i k+2} \\underline{W_{v, q}^{0(Q)}}\\left(t^{\\prime}-t, \\underline{v}, k ; \\underline{\\Theta_{r}}\\right)\n",
    "\\underline{W_{r, q}^{0(Q)}}\\left(t^{\\prime}-t, r, k ; \\underline{\\Theta_{r}}\\right)\\left(\\frac{M_{q, r_{i}}}{M_{q, r_{i}}+\\frac{T e^{\\lambda_{i} T}}{1+e^{\\lambda_{i} T}}}\\right)^{\\nu_{r_{i}}+1} e^{-\\left(\\frac{T e^{\\lambda_{i} T}}{1+e^{\\lambda_{i} T}}\\right)\\left(\\frac{M_{q, r_{i}} \\tilde{r}_{q, i}}{M_{q, r_{i}}+\\frac{T e^{\\lambda} i}{1+e^{\\lambda_{i} T}}}\\right)}\n",
    "\\end{equation}"
   ],
   "metadata": {
    "collapsed": false,
    "pycharm": {
     "name": "#%% md\n"
    }
   }
  },
  {
   "cell_type": "markdown",
   "source": [
    "The put option can be calculated similarly with $q = -2$\n",
    "\\begin{equation}\n",
    "P_{A}\\left(S_{0}^{i, j}, T, E, \\underline{r_{0}}, \\underline{v_{0}}\\right)=e^{-r_{i}(0) \\frac{T}{\\left(1+e^{\\lambda_{i}} T\\right)} \\frac{S_{0}^{i, j}}{2 \\pi} \\int_{-\\infty}^{+\\infty} d k \\frac{\\left(\\frac{S_{0}^{i, j}}{E}\\right)^{-(3+\\imath k)}}{-k^{2}+5 \\imath k+6} \\underline{W_{v, q}^{0(Q)}}\\left(t^{\\prime}-t, \\underline{v}, k ; \\underline{\\Theta_{r}}\\right)}\n",
    "\\underline{W_{r, q}^{0(Q)}\\left(t^{\\prime}-t, r, k ; \\underline{\\Theta_{r}}\\right)}\\left(\\frac{M_{q, r_{i}}}{M_{q, r_{i}}+\\frac{T e^{\\lambda_{i} T}}{1+e^{\\lambda_{i} T}}}\\right)^{\\nu_{r_{i}}+1} e^{-\\left(\\frac{T e^{\\lambda_{i} T}}{1+e^{\\lambda_{i} T}}\\right)\\left(\\frac{M_{q, r_{i}} \\tilde{r}_{q, i}}{M_{q, r_{i}}+\\frac{T e^{i} T}{1+e^{\\lambda_{i} T}}}\\right)},\n",
    "\\end{equation}"
   ],
   "metadata": {
    "collapsed": false,
    "pycharm": {
     "name": "#%% md\n"
    }
   }
  },
  {
   "cell_type": "markdown",
   "source": [
    "[H]By taking $a^{i, j} \\rightarrow 0^{+}$, $\\lambda_{m} \\rightarrow 0^{+}$, $\\eta_{n} \\rightarrow 0^{+}$, we can have the call option in the case $q=2$\n",
    "\\begin{equation}\n",
    "     C_{H}\\left(S_{0}^{i, j}, T, E, \\underline{r_{0}}, \\underline{v_{0}}\\right) = e^{-r_{i}(0) T} e^{2 r_{i}(0) T} \\frac{S_{0}^{i, j}}{2 \\pi} \\int^{+\\infty} d k \\frac{\\left(\\frac{S_{0}^{i, j}}{E}\\right)^{(1-\\imath k)} e^{-\\imath k r_{i}(0) T}}{-k^{2}-3 \\imath k+2} \\underline{W_{v, q}^{0(Q)}}\\left(t^{\\prime}-t, \\underline{v}, k ; \\underline{\\Theta_{r}}\\right)\n",
    "\\end{equation}\n"
   ],
   "metadata": {
    "collapsed": false,
    "pycharm": {
     "name": "#%% md\n"
    }
   }
  },
  {
   "cell_type": "markdown",
   "source": [
    "[H]and the put option when $q = -2$\n",
    "\\begin{equation}\n",
    "     P_{H}\\left(S_{0}^{i, j}, T, E, \\underline{r}_{0}, \\underline{v_{0}}\\right) =e^{-r_{i}(0) T} e^{-2 r_{i}(0) T} \\frac{S_{0}^{i, j}}{2 \\pi} \\int_{-\\infty}^{+\\infty} d k \\frac{\\left(\\frac{S_{0}^{i, j}}{E}\\right)^{-(3+\\imath k)} e^{-\\imath k r_{i}(0) T}}{-k^{2}+5 \\imath k+6} \\underline{W_{v, q}^{0(Q)}}{\\left(t^{\\prime}-t, \\underline{v}, k ; \\underline{\\Theta_{r}}\\right)}\n",
    "\\end{equation}"
   ],
   "metadata": {
    "collapsed": false
   }
  },
  {
   "cell_type": "markdown",
   "source": [
    "[H]In the above equation, the function $\\underline{W_{v, q}^{0(Q)}}\\left(t^{\\prime}-t, \\underline{v}, k ; \\underline{\\Theta_{v}}\\right)$ is\n",
    "\\begin{equation}\n",
    "\n",
    "\\underline{W_{v, q}^{0(Q)}}\\left(t^{\\prime}-t, \\underline{v}, k ; \\underline{\\Theta_{v}}\\right)=e^{-\\sum_{n=1}^{d}\\left(2 \\chi_{n}^{Q} v_{n}^{*(Q)} / \\gamma_{n}^{2}\\right) \\ln \\left(s_{q, v_{n}, b} / 2 \\zeta_{q, v_{n}}\\right)} e^{-\\sum_{n=1}^{d}\\left(2 \\chi_{n}^{Q} v_{n}^{*(Q)} / \\gamma_{n}^{2}\\right)\\left(\\mu_{q, v_{n}}+\\zeta_{q, v_{n}}\\right) T}\n",
    "e^{-\\sum_{n=1}^{d}\\left(2 v_{n}(0) / \\gamma_{n}^{2}\\right)\\left(\\zeta_{q, v_{n}}^{2}-\\mu_{q, v_{n}}^{2}\\right) s_{q, v_{n}, g} / s_{q, v_{n}, b}}\n",
    "\n",
    "\\end{equation}\n",
    "\n"
   ],
   "metadata": {
    "collapsed": false,
    "pycharm": {
     "name": "#%% md\n"
    }
   }
  },
  {
   "cell_type": "markdown",
   "source": [
    "[?]The change of dependent variable with a `regularization' parameter $q$, which enables us to derive elementary formulas for the marginal probability density function and the FX option prices\n",
    "\n",
    "\\begin{equation}\n",
    "    p_{b}\\left(\\tau, x, \\underline{v}, \\underline{r}, x^{\\prime}, \\underline{v}^{\\prime}, \\underline{r}^{\\prime}\\right)=e^{q\\left(x-x^{\\prime}\\right)} p_{q}\\left(\\tau, x, \\underline{v}, \\underline{r}, x^{\\prime}, \\underline{v}^{\\prime}, \\underline{r}^{\\prime}\\right)\n",
    "\\end{equation}\n"
   ],
   "metadata": {
    "collapsed": false,
    "pycharm": {
     "name": "#%% md\n"
    }
   }
  },
  {
   "cell_type": "markdown",
   "source": [
    "The function $p_b$ is defined as\n",
    "\n",
    "\\begin{equation}\n",
    "p_{b}\\left(\\tau, x, \\underline{v}, \\underline{r}, x^{\\prime}, \\underline{v}^{\\prime}, \\underline{r}^{\\prime}\\right)=p_{f}\\left(t, x, \\underline{v}, \\underline{r}, t^{\\prime}, x^{\\prime}, \\underline{v}^{\\prime}, \\underline{r}^{\\prime}\\right)\n",
    "\\end{equation}"
   ],
   "metadata": {
    "collapsed": false
   }
  },
  {
   "cell_type": "markdown",
   "source": [
    "The final condition $p_f$ is defined as\n",
    "\\begin{equation}\n",
    "p_{f}\\left(t, x, \\underline{v}, \\underline{r}, t^{\\prime}, x^{\\prime}, \\underline{v^{\\prime}}, \\underline{r}^{\\prime} \\mid t^{\\prime}=t\\right) =\\delta\\left(x^{\\prime}-x\\right) \\cdot \\delta\\left(r_{i}^{\\prime}-r_{i}\\right) \\delta\\left(r_{j}^{\\prime}-r_{j}\\right) \\cdot \\prod^{d} \\delta\\left(v_{n}^{\\prime}-v_{n}\\right)\n",
    "\\end{equation}\n"
   ],
   "metadata": {
    "collapsed": false
   }
  },
  {
   "cell_type": "markdown",
   "source": [
    "\n",
    "\\begin{align}\n",
    "s_{q, v_{n}, g} &=1-e^{-2 \\zeta_{q, v_{n}} \\tau}, \\\\\n",
    "s_{q, v_{n}, b} &=\\left(\\zeta_{q, v_{n}}+\\mu_{q, v_{n}}\\right) e^{-2 \\zeta_{q, v_{n}} \\tau}+\\left(\\zeta_{q, v_{n}}-\\mu_{q, v_{n}}\\right) .\n",
    "\\end{align}\n",
    "$\\zeta$ first appeared in eqaution 59"
   ],
   "metadata": {
    "collapsed": false
   }
  },
  {
   "cell_type": "markdown",
   "source": [
    "We can have\n",
    "\\begin{align}\n",
    "\\mu_{q, v_{n}}=-\\frac{1}{2}\\left(\\chi_{n}+(\\imath k-q) \\gamma_{n} \\tilde{\\rho}_{n, v}\\right)\\\\\n",
    "\\zeta_{q, v_{n}}=\\frac{1}{2}\\left[4 \\mu_{q,v_{n}}^{2}+2 \\gamma_{n}^{2} \\varphi_{q}^{v_{n}}(k)\\left(a_{n}^{i, j}\\right)^{2}\\right]^{1 / 2}\\\\\n",
    "\\varphi_{q}^{v_{n}}(k)=\\frac{k^{2}}{2}-\\frac{1}{2}\\left[\\left(q^{2}+q \\frac{\\tilde{a}_{n}^{i, j}}{a_{n}^{i, j}}\\right)-\\imath k\\left(2 q+\\frac{\\tilde{a}_{n}^{i, j}}{a_{n}^{i, j}}\\right)\\right]\\\\\n",
    "\\end{align}"
   ],
   "metadata": {
    "collapsed": false
   }
  },
  {
   "cell_type": "markdown",
   "source": [
    "\\begin{align}\n",
    "a_{n}^{i, j}=a_{n}^{i}-a_{n}^{j}\\\\\n",
    "\\tilde{a}_{n}^{i, j}=a_{n}^{i}+a_{n}^{j}\\\\\n",
    "\\tilde{\\rho}_{n, v}=\\rho_{n, v}\\left(a_{n}^{i}-a_{n}^{j}\\right)\n",
    "\\end{align}"
   ],
   "metadata": {
    "collapsed": false
   }
  },
  {
   "cell_type": "code",
   "execution_count": null,
   "outputs": [],
   "source": [],
   "metadata": {
    "collapsed": false,
    "pycharm": {
     "name": "#%%\n"
    }
   }
  }
 ],
 "metadata": {
  "kernelspec": {
   "display_name": "PyCharm (FX_Multi)",
   "language": "python",
   "name": "pycharm-a7fc6b7a"
  },
  "language_info": {
   "codemirror_mode": {
    "name": "ipython",
    "version": 3
   },
   "file_extension": ".py",
   "mimetype": "text/x-python",
   "name": "python",
   "nbconvert_exporter": "python",
   "pygments_lexer": "ipython3",
   "version": "3.9.7"
  }
 },
 "nbformat": 4,
 "nbformat_minor": 5
}