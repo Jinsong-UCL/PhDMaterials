{
 "cells": [
  {
   "cell_type": "markdown",
   "metadata": {
    "pycharm": {
     "name": "#%% md\n"
    }
   },
   "source": [
    "Compute the Monte Carlo price of European options with the Sun Yu model"
   ]
  },
  {
   "cell_type": "code",
   "execution_count": 27,
   "metadata": {
    "pycharm": {
     "name": "#%%\n"
    }
   },
   "outputs": [],
   "source": [
    "import cupy as cp\n",
    "import numpy as np"
   ]
  },
  {
   "cell_type": "markdown",
   "metadata": {
    "pycharm": {
     "name": "#%% md\n"
    }
   },
   "source": [
    "## 1.1 Set default device as CUDA"
   ]
  },
  {
   "cell_type": "markdown",
   "metadata": {
    "pycharm": {
     "name": "#%% md\n"
    }
   },
   "source": [
    "## 1.2 Parameters of the model"
   ]
  },
  {
   "cell_type": "code",
   "execution_count": 9,
   "metadata": {
    "pycharm": {
     "name": "#%%\n"
    }
   },
   "outputs": [],
   "source": [
    "# Set parameter values for multifactor stochastic volatility model\n",
    "# Recchioni, Sun, An explicitly solvable Heston model with stochastic interest rate,\n",
    "# European Journal of Operational Research 249 (1), 359-377, 2016.\n",
    "\n",
    "# Market parameters\n",
    "S0 = 1; # spot exchange rate\n",
    "r_0 = cp.array([0.02,0.01]); # spot interest rates r_{i0},r_{j0}\n",
    "\n",
    "# Contract parameters\n",
    "T = 1; # maturity\n",
    "K = 1; # strike price\n",
    "\n",
    "# Model parameters\n",
    "\n",
    "param_alpha = 0.5;\n",
    "d = 2; # number of volatility factors\n",
    "\n",
    "# Volatility coefficients or weights\n",
    "a_i = cp.array([0.6650, 1.0985]);\n",
    "a_j = cp.array([1.6177, 1.3588]);\n",
    "\n",
    "# Mean-reversion rate (or strength) of the volatility\n",
    "chi = cp.array([0.9418,1.7909]);\n",
    "\n",
    "# Initial volatility\n",
    "v_0 = cp.array([0.1244,0.0391]);\n",
    "\n",
    "# Long-term average of the volatility\n",
    "v_bar = cp.array([0.037,0.0909]);\n",
    "\n",
    "# Volatility of volatility\n",
    "gamma = cp.array([0.4912,1]);\n",
    "\n",
    "# Interest rate coefficients or weights\n",
    "b_i = cp.array([1.0000004,0.000000]);\n",
    "b_j = cp.array([0.000000,0.0000006]);\n",
    "\n",
    "# Mean-reversion rate (or strength) of the interest rate\n",
    "Lambda = cp.array([0.01,0.02]); # lambda_i,lambda_j\n",
    "\n",
    "# Long-term average of the interest rate\n",
    "r_bar = cp.array([0.02,0.01]); # \\bar{r}_i,\\bar{r}_j\n",
    "\n",
    "# Volatility of the interest rate\n",
    "eta = cp.array([0.001,0.002]); # \\eta_i,\\eta_j\n",
    "\n",
    "# Correlations\n",
    "rho_v = cp.array([-0.5231,-0.398]);\n",
    "rho_r = cp.array([-0.23,-0.81]);"
   ]
  },
  {
   "cell_type": "markdown",
   "metadata": {
    "pycharm": {
     "name": "#%% md\n"
    }
   },
   "source": [
    "## 2.1 Monte Carlo simulation"
   ]
  },
  {
   "cell_type": "code",
   "execution_count": 10,
   "metadata": {
    "pycharm": {
     "name": "#%%\n"
    }
   },
   "outputs": [],
   "source": [
    "# Algorithm parameters\n",
    "nsteps = 10;\n",
    "nblocks = 200;\n",
    "npaths = 1000;"
   ]
  },
  {
   "cell_type": "code",
   "execution_count": 11,
   "metadata": {
    "pycharm": {
     "name": "#%%\n"
    }
   },
   "outputs": [
    {
     "name": "stdout",
     "output_type": "stream",
     "text": [
      "0\n",
      "1\n",
      "2\n",
      "3\n"
     ]
    },
    {
     "ename": "KeyboardInterrupt",
     "evalue": "",
     "output_type": "error",
     "traceback": [
      "\u001B[1;31m---------------------------------------------------------------------------\u001B[0m",
      "\u001B[1;31mKeyboardInterrupt\u001B[0m                         Traceback (most recent call last)",
      "Input \u001B[1;32mIn [11]\u001B[0m, in \u001B[0;36m<cell line: 7>\u001B[1;34m()\u001B[0m\n\u001B[0;32m     72\u001B[0m sum_v_2[steps] \u001B[38;5;241m=\u001B[39m cp\u001B[38;5;241m.\u001B[39mmatmul(v[steps,:]\u001B[38;5;241m*\u001B[39m\u001B[38;5;241m*\u001B[39m\u001B[38;5;241m0.5\u001B[39m \u001B[38;5;241m*\u001B[39m dW_v[steps,] , (a_i\u001B[38;5;241m-\u001B[39ma_j));\u001B[38;5;66;03m###\u001B[39;00m\n\u001B[0;32m     74\u001B[0m \u001B[38;5;66;03m# Block for r\u001B[39;00m\n\u001B[1;32m---> 75\u001B[0m sum_r_2[steps] \u001B[38;5;241m=\u001B[39m \u001B[43mcp\u001B[49m\u001B[38;5;241;43m.\u001B[39;49m\u001B[43mmatmul\u001B[49m\u001B[43m(\u001B[49m\u001B[43mr\u001B[49m\u001B[43m[\u001B[49m\u001B[43msteps\u001B[49m\u001B[43m,\u001B[49m\u001B[43m]\u001B[49m\u001B[38;5;241;43m*\u001B[39;49m\u001B[38;5;241;43m*\u001B[39;49m\u001B[43mparam_alpha\u001B[49m\u001B[43m \u001B[49m\u001B[38;5;241;43m*\u001B[39;49m\u001B[43m \u001B[49m\u001B[43mdW_r\u001B[49m\u001B[43m[\u001B[49m\u001B[43msteps\u001B[49m\u001B[43m,\u001B[49m\u001B[43m]\u001B[49m\u001B[43m,\u001B[49m\u001B[43m(\u001B[49m\u001B[43mb_i\u001B[49m\u001B[38;5;241;43m-\u001B[39;49m\u001B[43mb_j\u001B[49m\u001B[43m)\u001B[49m\u001B[43m)\u001B[49m;\u001B[38;5;66;03m###\u001B[39;00m\n\u001B[0;32m     77\u001B[0m \u001B[38;5;66;03m# dx = (r_0 - r_i)*dt - a_i * diag_v^0.5 * dW_v - b_i * diag_r^alpha * dW_r\u001B[39;00m\n\u001B[0;32m     78\u001B[0m x[steps\u001B[38;5;241m+\u001B[39m\u001B[38;5;241m1\u001B[39m] \u001B[38;5;241m=\u001B[39m x[steps] \u001B[38;5;241m+\u001B[39m mu[steps]\u001B[38;5;241m*\u001B[39mdt \u001B[38;5;241m+\u001B[39m sum_v_2[steps] \u001B[38;5;241m+\u001B[39m sum_r_2[steps];\n",
      "File \u001B[1;32mC:\\ProgramData\\Anaconda3\\envs\\Sun_Simulation\\lib\\site-packages\\cupy\\_core\\_gufuncs.py:684\u001B[0m, in \u001B[0;36m_GUFunc.__call__\u001B[1;34m(self, *args, **kwargs)\u001B[0m\n\u001B[0;32m    681\u001B[0m     \u001B[38;5;28;01mif\u001B[39;00m \u001B[38;5;129;01mnot\u001B[39;00m numpy\u001B[38;5;241m.\u001B[39mcan_cast(ret_dtype, outs[\u001B[38;5;241m0\u001B[39m]\u001B[38;5;241m.\u001B[39mdtype, casting\u001B[38;5;241m=\u001B[39mcasting):\n\u001B[0;32m    682\u001B[0m         \u001B[38;5;28;01mraise\u001B[39;00m \u001B[38;5;167;01mTypeError\u001B[39;00m(\u001B[38;5;124mf\u001B[39m\u001B[38;5;124m'\u001B[39m\u001B[38;5;124mCannot cast out dtype from \u001B[39m\u001B[38;5;132;01m{\u001B[39;00mouts[\u001B[38;5;241m0\u001B[39m]\u001B[38;5;241m.\u001B[39mdtype\u001B[38;5;132;01m}\u001B[39;00m\u001B[38;5;124m'\u001B[39m\n\u001B[0;32m    683\u001B[0m                         \u001B[38;5;124mf\u001B[39m\u001B[38;5;124m'\u001B[39m\u001B[38;5;124m to \u001B[39m\u001B[38;5;132;01m{\u001B[39;00mret_dtype\u001B[38;5;132;01m}\u001B[39;00m\u001B[38;5;124m with rule \u001B[39m\u001B[38;5;132;01m{\u001B[39;00mcasting\u001B[38;5;132;01m}\u001B[39;00m\u001B[38;5;124m'\u001B[39m)\n\u001B[1;32m--> 684\u001B[0m \u001B[38;5;28;43mself\u001B[39;49m\u001B[38;5;241;43m.\u001B[39;49m\u001B[43m_apply_func_to_inputs\u001B[49m\u001B[43m(\u001B[49m\n\u001B[0;32m    685\u001B[0m \u001B[43m    \u001B[49m\u001B[43mfunc\u001B[49m\u001B[43m,\u001B[49m\u001B[43m \u001B[49m\u001B[38;5;241;43m0\u001B[39;49m\u001B[43m,\u001B[49m\u001B[43m \u001B[49m\u001B[43mdimsizess\u001B[49m\u001B[43m,\u001B[49m\u001B[43m \u001B[49m\u001B[43mloop_output_dims\u001B[49m\u001B[43m,\u001B[49m\u001B[43m \u001B[49m\u001B[43margs\u001B[49m\u001B[43m,\u001B[49m\u001B[43m \u001B[49m\u001B[43mouts\u001B[49m\u001B[43m)\u001B[49m\n\u001B[0;32m    687\u001B[0m \u001B[38;5;66;03m# This code credit goes to Dask\u001B[39;00m\n\u001B[0;32m    688\u001B[0m \u001B[38;5;66;03m# https://github.com/dask/dask/blob/61b578f5a3ad88cbc6a8b9a73ce08c551bd969fa/dask/array/gufunc.py#L462-L503\u001B[39;00m\n\u001B[0;32m    689\u001B[0m \u001B[38;5;66;03m# Treat direct output\u001B[39;00m\n\u001B[0;32m    691\u001B[0m \u001B[38;5;28;01mif\u001B[39;00m \u001B[38;5;28mself\u001B[39m\u001B[38;5;241m.\u001B[39m_nout \u001B[38;5;241m==\u001B[39m \u001B[38;5;241m0\u001B[39m:\n",
      "File \u001B[1;32mC:\\ProgramData\\Anaconda3\\envs\\Sun_Simulation\\lib\\site-packages\\cupy\\_core\\_gufuncs.py:399\u001B[0m, in \u001B[0;36m_GUFunc._apply_func_to_inputs\u001B[1;34m(self, func, dim, sizes, dims, args, outs)\u001B[0m\n\u001B[0;32m    397\u001B[0m \u001B[38;5;28;01mif\u001B[39;00m \u001B[38;5;28mself\u001B[39m\u001B[38;5;241m.\u001B[39m_supports_out \u001B[38;5;129;01mand\u001B[39;00m outs \u001B[38;5;129;01mis\u001B[39;00m \u001B[38;5;129;01mnot\u001B[39;00m \u001B[38;5;28;01mNone\u001B[39;00m:\n\u001B[0;32m    398\u001B[0m     outs \u001B[38;5;241m=\u001B[39m outs[\u001B[38;5;241m0\u001B[39m] \u001B[38;5;28;01mif\u001B[39;00m \u001B[38;5;28mlen\u001B[39m(outs) \u001B[38;5;241m==\u001B[39m \u001B[38;5;241m1\u001B[39m \u001B[38;5;28;01melse\u001B[39;00m outs\n\u001B[1;32m--> 399\u001B[0m     \u001B[43mfunc\u001B[49m\u001B[43m(\u001B[49m\u001B[38;5;241;43m*\u001B[39;49m\u001B[43margs\u001B[49m\u001B[43m,\u001B[49m\u001B[43m \u001B[49m\u001B[43mout\u001B[49m\u001B[38;5;241;43m=\u001B[39;49m\u001B[43mouts\u001B[49m\u001B[43m)\u001B[49m\n\u001B[0;32m    400\u001B[0m \u001B[38;5;28;01melse\u001B[39;00m:\n\u001B[0;32m    401\u001B[0m     fouts \u001B[38;5;241m=\u001B[39m func(\u001B[38;5;241m*\u001B[39margs)\n",
      "\u001B[1;31mKeyboardInterrupt\u001B[0m: "
     ]
    }
   ],
   "source": [
    "from cupy.array_api import float32\n",
    "\n",
    "# Monte Carlo\n",
    "dt = T/nsteps;\n",
    "VcMC = cp.zeros((nblocks), dtype=float32);\n",
    "VpMC = cp.zeros((nblocks), dtype=float32);\n",
    "for block in range (nblocks):\n",
    "    MC_result = cp.zeros((nsteps+1,npaths), dtype=float32);\n",
    "    VcMCb = cp.zeros((1,npaths), dtype=float32);\n",
    "    VpMCb = cp.zeros((1,npaths), dtype=float32);\n",
    "    for path in range(npaths):\n",
    "        # Increments of the arithmetic Brownian motion X(t) = log(S(t)/S(0))\n",
    "        # dX = muABM*dt + sigma*sqrt(dt)*randn(ndates,nsample);\n",
    "        # dS/S = (r_0 - r_i)*dt - a_i * diag_v^0.5 * dW_v - b_i * diag_r^alpha * dW_r\n",
    "\n",
    "        # Generate a random path using the above model\n",
    "        # Volatility part\n",
    "        # Model variables\n",
    "        v = cp.zeros((nsteps+1,d), dtype=float32);\n",
    "        v[0,] = v_0;\n",
    "        # corr (dW_v, dZ_v) = rho_v\n",
    "        dW_v_1 = cp.random.randn(nsteps,d, dtype=float32);\n",
    "        dW_v_2 = cp.random.randn(nsteps,d, dtype=float32);\n",
    "        dW_v_3 = cp.matmul(dW_v_1,cp.diag(rho_v)) + cp.matmul(dW_v_2,cp.diag((1-rho_v**2)**0.5));\n",
    "\n",
    "        dW_v = dW_v_1 * cp.sqrt(dt);\n",
    "        dZ_v = dW_v_3 * cp.sqrt(dt);\n",
    "\n",
    "        v_ref = cp.zeros((1,d), dtype=float32);\n",
    "        # dv = chi * (v_bar - v) * dt + gamma * \\sqrt(v) * dZ_v\n",
    "        for steps in range(nsteps):\n",
    "            v[steps+1,] = cp.maximum(v[steps,] + cp.matmul((v_bar - v[steps,]) , cp.diag(chi)) * dt\n",
    "                              + cp.matmul(cp.sqrt(v[steps,]) * dZ_v[steps,], cp.diag(gamma)),v_ref);\n",
    "\n",
    "        # Interest rate part\n",
    "        # Model variables\n",
    "        r = cp.zeros((nsteps+1,2), dtype=float32);\n",
    "        r[0,] = r_0;\n",
    "\n",
    "        # corr (dW_r_i, dZ_r_i) = rho_r_i\n",
    "        dW_r_1 = cp.random.randn(nsteps,2, dtype=float32);\n",
    "        dW_r_2 = cp.random.randn(nsteps,2, dtype=float32);\n",
    "        dW_r_3 = cp.matmul(dW_r_1,cp.diag(rho_r)) + cp.matmul(dW_r_2,cp.diag((1-rho_r**2)**0.5));\n",
    "\n",
    "        dW_r = dW_r_1 * cp.sqrt(dt);\n",
    "        dZ_r = dW_r_3 * cp.sqrt(dt);\n",
    "\n",
    "        r_ref = cp.zeros((1,2));\n",
    "        # dr = lambda * (r_bar - r) * dt + eta * r^alpha * dZ_r\n",
    "        for steps in range(nsteps):\n",
    "            r[steps+1,] = cp.maximum(r[steps,] + cp.matmul((r_bar - r[steps,]) , cp.diag(Lambda)) * dt\n",
    "                              + cp.matmul(cp.sqrt(r[steps,]) * dZ_r[steps,], cp.diag(eta)),r_ref);\n",
    "\n",
    "        sum_v_1 = cp.zeros(nsteps, dtype=float32);\n",
    "        sum_v_2 = cp.zeros(nsteps, dtype=float32);\n",
    "        sum_r_1 = cp.zeros(nsteps, dtype=float32);\n",
    "        sum_r_2 = cp.zeros(nsteps, dtype=float32);\n",
    "        mu = cp.zeros(nsteps, dtype=float32);\n",
    "        x = cp.zeros((nsteps+1,1), dtype=float32);\n",
    "\n",
    "        # Valuation for dx\n",
    "        for steps in range(nsteps):\n",
    "            # Block for MuYu\n",
    "            # sum_v_1(steps) = (a_i(1)^2 - a_j(1)^2) * v_1(steps) + (a_i(2)^2 - a_j(2)^2) * v_2(steps);\n",
    "            sum_v_1[steps] = cp.matmul(v[steps,] , (a_i**2 - a_j**2));\n",
    "            # sum_r_1(steps) = b_i^2 * r_i(steps)^(2*param_alpha) - b_j^2 * r_j(steps)^(2*param_alpha);\n",
    "            sum_r_1[steps] = cp.matmul(r[steps,] , (b_i**2 - b_j**2));\n",
    "\n",
    "            mu[steps] = r[steps,0] - r[steps,1] + 0.5 * (sum_v_1[steps] + sum_r_1[steps]);\n",
    "\n",
    "            # Block for v\n",
    "            sum_v_2[steps] = cp.matmul(v[steps,:]**0.5 * dW_v[steps,] , (a_i-a_j));###\n",
    "\n",
    "            # Block for r\n",
    "            sum_r_2[steps] = cp.matmul(r[steps,]**param_alpha * dW_r[steps,],(b_i-b_j));###\n",
    "\n",
    "            # dx = (r_0 - r_i)*dt - a_i * diag_v^0.5 * dW_v - b_i * diag_r^alpha * dW_r\n",
    "            x[steps+1] = x[steps] + mu[steps]*dt + sum_v_2[steps] + sum_r_2[steps];\n",
    "\n",
    "        # Calculate the Smax and Smin\n",
    "\n",
    "        S_end = S0*cp.exp(x[-1]);\n",
    "\n",
    "        payoffs_call = max(S_end - K,0);\n",
    "        payoffs_put = max(K - S_end,0);\n",
    "\n",
    "        VcMCb[0,path] = cp.exp(-r_0[1]*T)*payoffs_call;\n",
    "        VpMCb[0,path] = cp.exp(-r_0[1]*T)*payoffs_put;\n",
    "\n",
    "       # MC_result(1:nsteps+1,path) = S0*exp(x_i_j);\n",
    "\n",
    "    VcMC[block] = cp.mean(VcMCb);\n",
    "    VpMC[block] = cp.mean(VpMCb);\n",
    "    print(block);\n",
    "\n",
    "\n",
    "VcMC_result = cp.mean(VcMC);\n",
    "VpMC_result = cp.mean(VpMC);\n",
    "scMC = cp.sqrt(cp.var(VcMC)/nblocks);\n",
    "spMC = cp.sqrt(cp.var(VpMC)/nblocks);"
   ]
  },
  {
   "cell_type": "markdown",
   "metadata": {
    "pycharm": {
     "name": "#%% md\n"
    }
   },
   "source": []
  },
  {
   "cell_type": "code",
   "execution_count": null,
   "metadata": {
    "pycharm": {
     "name": "#%%\n"
    }
   },
   "outputs": [],
   "source": [
    "VcMC_result\n"
   ]
  },
  {
   "cell_type": "code",
   "execution_count": null,
   "metadata": {
    "pycharm": {
     "name": "#%%\n"
    }
   },
   "outputs": [],
   "source": [
    "VpMC_result"
   ]
  },
  {
   "cell_type": "code",
   "execution_count": null,
   "outputs": [],
   "source": [
    "cp.zeros(10)"
   ],
   "metadata": {
    "collapsed": false,
    "pycharm": {
     "name": "#%%\n"
    }
   }
  },
  {
   "cell_type": "code",
   "execution_count": 28,
   "outputs": [],
   "source": [
    "def simulation_path(d,dt,v_0,r_0,rho_r,rho_v,nsteps,S0,K,eta,gamma):\n",
    "    v = cp.zeros((nsteps+1,d), dtype=float32);\n",
    "    v[0,] = v_0;\n",
    "    # corr (dW_v, dZ_v) = rho_v\n",
    "    dW_v_1 = cp.random.randn(nsteps,d, dtype=float32);\n",
    "    dW_v_2 = cp.random.randn(nsteps,d, dtype=float32);\n",
    "    dW_v_3 = cp.matmul(dW_v_1,cp.diag(rho_v)) + cp.matmul(dW_v_2,cp.diag((1-rho_v**2)**0.5));\n",
    "\n",
    "    dW_v = dW_v_1 * cp.sqrt(dt);\n",
    "    dZ_v = dW_v_3 * cp.sqrt(dt);\n",
    "\n",
    "    v_ref = cp.zeros((1,d), dtype=float32);\n",
    "    # dv = chi * (v_bar - v) * dt + gamma * \\sqrt(v) * dZ_v\n",
    "    for steps in range(nsteps):\n",
    "        v[steps+1,] = cp.maximum(v[steps,] + cp.matmul((v_bar - v[steps,]) , cp.diag(chi)) * dt  + cp.matmul(cp.sqrt(v[steps,]) * dZ_v[steps,], cp.diag(gamma)),v_ref);\n",
    "\n",
    "        # Interest rate part\n",
    "        # Model variables\n",
    "    r = cp.zeros((nsteps+1,2), dtype=float32);\n",
    "    r[0,] = r_0;\n",
    "\n",
    "    # corr (dW_r_i, dZ_r_i) = rho_r_i\n",
    "    dW_r_1 = cp.random.randn(nsteps,2, dtype=float32);\n",
    "    dW_r_2 = cp.random.randn(nsteps,2, dtype=float32);\n",
    "    dW_r_3 = cp.matmul(dW_r_1,cp.diag(rho_r)) + cp.matmul(dW_r_2,cp.diag((1-rho_r**2)**0.5));\n",
    "\n",
    "    dW_r = dW_r_1 * cp.sqrt(dt);\n",
    "    dZ_r = dW_r_3 * cp.sqrt(dt);\n",
    "\n",
    "    r_ref = cp.zeros((1,2));\n",
    "        # dr = lambda * (r_bar - r) * dt + eta * r^alpha * dZ_r\n",
    "    for steps in range(nsteps):\n",
    "        r[steps+1,] = cp.maximum(r[steps,] + cp.matmul((r_bar - r[steps,]) , cp.diag(Lambda)) * dt  + cp.matmul(cp.sqrt(r[steps,]) * dZ_r[steps,], cp.diag(eta)),r_ref);\n",
    "\n",
    "    sum_v_1 = cp.zeros(nsteps, dtype=float32);\n",
    "    sum_v_2 = cp.zeros(nsteps, dtype=float32);\n",
    "    sum_r_1 = cp.zeros(nsteps, dtype=float32);\n",
    "    sum_r_2 = cp.zeros(nsteps, dtype=float32);\n",
    "    mu = cp.zeros(nsteps, dtype=float32);\n",
    "    x = cp.zeros((nsteps+1,1), dtype=float32);\n",
    "\n",
    "    # Valuation for dx\n",
    "    for steps in range(nsteps):\n",
    "        # Block for MuYu\n",
    "        # sum_v_1(steps) = (a_i(1)^2 - a_j(1)^2) * v_1(steps) + (a_i(2)^2 - a_j(2)^2) * v_2(steps);\n",
    "        sum_v_1[steps] = cp.matmul(v[steps,] , (a_i**2 - a_j**2));\n",
    "        # sum_r_1(steps) = b_i^2 * r_i(steps)^(2*param_alpha) - b_j^2 * r_j(steps)^(2*param_alpha);\n",
    "        sum_r_1[steps] = cp.matmul(r[steps,] , (b_i**2 - b_j**2));\n",
    "\n",
    "        mu[steps] = r[steps,0] - r[steps,1] + 0.5 * (sum_v_1[steps] + sum_r_1[steps]);\n",
    "\n",
    "            # Block for v\n",
    "        sum_v_2[steps] = cp.matmul(v[steps,:]**0.5 * dW_v[steps,] , (a_i-a_j));###\n",
    "\n",
    "            # Block for r\n",
    "        sum_r_2[steps] = cp.matmul(r[steps,]**param_alpha * dW_r[steps,],(b_i-b_j));###\n",
    "\n",
    "            # dx = (r_0 - r_i)*dt - a_i * diag_v^0.5 * dW_v - b_i * diag_r^alpha * dW_r\n",
    "        x[steps+1] = x[steps] + mu[steps]*dt + sum_v_2[steps] + sum_r_2[steps];\n",
    "\n",
    "        # Calculate the Smax and Smin\n",
    "\n",
    "    S_end = S0*cp.exp(x[-1]);\n",
    "\n",
    "    payoffs_call = max(S_end - K,0);\n",
    "    payoffs_put = max(K - S_end,0);\n",
    "\n",
    "    VcMCb = cp.exp(-r_0[1]*T)*payoffs_call;\n",
    "    VpMCb = cp.exp(-r_0[1]*T)*payoffs_put;\n",
    "    return cp.array([np.asscalar(VcMCb),np.asscalar(VpMCb)]);"
   ],
   "metadata": {
    "collapsed": false,
    "pycharm": {
     "name": "#%%\n"
    }
   }
  },
  {
   "cell_type": "code",
   "execution_count": 17,
   "outputs": [
    {
     "ename": "TypeError",
     "evalue": "Implicit conversion to a NumPy array is not allowed. Please use `.get()` to construct a NumPy array explicitly.",
     "output_type": "error",
     "traceback": [
      "\u001B[1;31m---------------------------------------------------------------------------\u001B[0m",
      "\u001B[1;31mTypeError\u001B[0m                                 Traceback (most recent call last)",
      "Input \u001B[1;32mIn [17]\u001B[0m, in \u001B[0;36m<cell line: 4>\u001B[1;34m()\u001B[0m\n\u001B[0;32m      3\u001B[0m output \u001B[38;5;241m=\u001B[39m cp\u001B[38;5;241m.\u001B[39mzeros((npaths,\u001B[38;5;241m2\u001B[39m),dtype\u001B[38;5;241m=\u001B[39mcp\u001B[38;5;241m.\u001B[39mfloat32)\n\u001B[0;32m      4\u001B[0m \u001B[38;5;28;01mfor\u001B[39;00m path \u001B[38;5;129;01min\u001B[39;00m \u001B[38;5;28mrange\u001B[39m (npaths):\n\u001B[0;32m      5\u001B[0m     \u001B[38;5;66;03m# cp.append(output,simulation_path(d,dt,v_0,r_0,rho_r,rho_v,nsteps,S0,K,eta,gamma))\u001B[39;00m\n\u001B[1;32m----> 6\u001B[0m     output[path,:] \u001B[38;5;241m=\u001B[39m \u001B[43msimulation_path\u001B[49m\u001B[43m(\u001B[49m\u001B[43md\u001B[49m\u001B[43m,\u001B[49m\u001B[43mdt\u001B[49m\u001B[43m,\u001B[49m\u001B[43mv_0\u001B[49m\u001B[43m,\u001B[49m\u001B[43mr_0\u001B[49m\u001B[43m,\u001B[49m\u001B[43mrho_r\u001B[49m\u001B[43m,\u001B[49m\u001B[43mrho_v\u001B[49m\u001B[43m,\u001B[49m\u001B[43mnsteps\u001B[49m\u001B[43m,\u001B[49m\u001B[43mS0\u001B[49m\u001B[43m,\u001B[49m\u001B[43mK\u001B[49m\u001B[43m,\u001B[49m\u001B[43meta\u001B[49m\u001B[43m,\u001B[49m\u001B[43mgamma\u001B[49m\u001B[43m)\u001B[49m;\n\u001B[0;32m      7\u001B[0m output\u001B[38;5;241m.\u001B[39mmean()\n",
      "Input \u001B[1;32mIn [16]\u001B[0m, in \u001B[0;36msimulation_path\u001B[1;34m(d, dt, v_0, r_0, rho_r, rho_v, nsteps, S0, K, eta, gamma)\u001B[0m\n\u001B[0;32m     68\u001B[0m VcMCb \u001B[38;5;241m=\u001B[39m cp\u001B[38;5;241m.\u001B[39mexp(\u001B[38;5;241m-\u001B[39mr_0[\u001B[38;5;241m1\u001B[39m]\u001B[38;5;241m*\u001B[39mT)\u001B[38;5;241m*\u001B[39mpayoffs_call;\n\u001B[0;32m     69\u001B[0m VpMCb \u001B[38;5;241m=\u001B[39m cp\u001B[38;5;241m.\u001B[39mexp(\u001B[38;5;241m-\u001B[39mr_0[\u001B[38;5;241m1\u001B[39m]\u001B[38;5;241m*\u001B[39mT)\u001B[38;5;241m*\u001B[39mpayoffs_put;\n\u001B[1;32m---> 70\u001B[0m \u001B[38;5;28;01mreturn\u001B[39;00m \u001B[43mcp\u001B[49m\u001B[38;5;241;43m.\u001B[39;49m\u001B[43marray\u001B[49m\u001B[43m(\u001B[49m\u001B[43m[\u001B[49m\u001B[43mVcMCb\u001B[49m\u001B[43m,\u001B[49m\u001B[43mVpMCb\u001B[49m\u001B[43m]\u001B[49m\u001B[43m)\u001B[49m\n",
      "File \u001B[1;32mC:\\ProgramData\\Anaconda3\\envs\\Sun_Simulation\\lib\\site-packages\\cupy\\_creation\\from_data.py:46\u001B[0m, in \u001B[0;36marray\u001B[1;34m(obj, dtype, copy, order, subok, ndmin)\u001B[0m\n\u001B[0;32m      7\u001B[0m \u001B[38;5;28;01mdef\u001B[39;00m \u001B[38;5;21marray\u001B[39m(obj, dtype\u001B[38;5;241m=\u001B[39m\u001B[38;5;28;01mNone\u001B[39;00m, copy\u001B[38;5;241m=\u001B[39m\u001B[38;5;28;01mTrue\u001B[39;00m, order\u001B[38;5;241m=\u001B[39m\u001B[38;5;124m'\u001B[39m\u001B[38;5;124mK\u001B[39m\u001B[38;5;124m'\u001B[39m, subok\u001B[38;5;241m=\u001B[39m\u001B[38;5;28;01mFalse\u001B[39;00m, ndmin\u001B[38;5;241m=\u001B[39m\u001B[38;5;241m0\u001B[39m):\n\u001B[0;32m      8\u001B[0m     \u001B[38;5;124;03m\"\"\"Creates an array on the current device.\u001B[39;00m\n\u001B[0;32m      9\u001B[0m \n\u001B[0;32m     10\u001B[0m \u001B[38;5;124;03m    This function currently does not support the ``subok`` option.\u001B[39;00m\n\u001B[1;32m   (...)\u001B[0m\n\u001B[0;32m     44\u001B[0m \n\u001B[0;32m     45\u001B[0m \u001B[38;5;124;03m    \"\"\"\u001B[39;00m\n\u001B[1;32m---> 46\u001B[0m     \u001B[38;5;28;01mreturn\u001B[39;00m \u001B[43m_core\u001B[49m\u001B[38;5;241;43m.\u001B[39;49m\u001B[43marray\u001B[49m\u001B[43m(\u001B[49m\u001B[43mobj\u001B[49m\u001B[43m,\u001B[49m\u001B[43m \u001B[49m\u001B[43mdtype\u001B[49m\u001B[43m,\u001B[49m\u001B[43m \u001B[49m\u001B[43mcopy\u001B[49m\u001B[43m,\u001B[49m\u001B[43m \u001B[49m\u001B[43morder\u001B[49m\u001B[43m,\u001B[49m\u001B[43m \u001B[49m\u001B[43msubok\u001B[49m\u001B[43m,\u001B[49m\u001B[43m \u001B[49m\u001B[43mndmin\u001B[49m\u001B[43m)\u001B[49m\n",
      "File \u001B[1;32mcupy\\_core\\core.pyx:2266\u001B[0m, in \u001B[0;36mcupy._core.core.array\u001B[1;34m()\u001B[0m\n",
      "File \u001B[1;32mcupy\\_core\\core.pyx:2290\u001B[0m, in \u001B[0;36mcupy._core.core.array\u001B[1;34m()\u001B[0m\n",
      "File \u001B[1;32mcupy\\_core\\core.pyx:2415\u001B[0m, in \u001B[0;36mcupy._core.core._array_default\u001B[1;34m()\u001B[0m\n",
      "File \u001B[1;32mcupy\\_core\\core.pyx:1397\u001B[0m, in \u001B[0;36mcupy._core.core.ndarray.__array__\u001B[1;34m()\u001B[0m\n",
      "\u001B[1;31mTypeError\u001B[0m: Implicit conversion to a NumPy array is not allowed. Please use `.get()` to construct a NumPy array explicitly."
     ]
    }
   ],
   "source": [
    "# Monte Carlo\n",
    "dt = T/nsteps;\n",
    "output = cp.zeros((npaths,2),dtype=cp.float32)\n",
    "for path in range (npaths):\n",
    "    # cp.append(output,simulation_path(d,dt,v_0,r_0,rho_r,rho_v,nsteps,S0,K,eta,gamma))\n",
    "    output[path,:] = simulation_path(d,dt,v_0,r_0,rho_r,rho_v,nsteps,S0,K,eta,gamma);\n",
    "output.mean()"
   ],
   "metadata": {
    "collapsed": false,
    "pycharm": {
     "name": "#%%\n"
    }
   }
  },
  {
   "cell_type": "code",
   "execution_count": 29,
   "outputs": [
    {
     "name": "stderr",
     "output_type": "stream",
     "text": [
      "C:\\Users\\Jinsong\\AppData\\Local\\Temp\\ipykernel_22464\\248037717.py:70: DeprecationWarning: np.asscalar(a) is deprecated since NumPy v1.16, use a.item() instead\n",
      "  return cp.array([np.asscalar(VcMCb),np.asscalar(VpMCb)]);\n"
     ]
    },
    {
     "ename": "TypeError",
     "evalue": "no implementation found for 'numpy.asscalar' on types that implement __array_function__: [<class 'cupy._core.core.ndarray'>]",
     "output_type": "error",
     "traceback": [
      "\u001B[1;31m---------------------------------------------------------------------------\u001B[0m",
      "\u001B[1;31mTypeError\u001B[0m                                 Traceback (most recent call last)",
      "Input \u001B[1;32mIn [29]\u001B[0m, in \u001B[0;36m<cell line: 1>\u001B[1;34m()\u001B[0m\n\u001B[1;32m----> 1\u001B[0m \u001B[43msimulation_path\u001B[49m\u001B[43m(\u001B[49m\u001B[43md\u001B[49m\u001B[43m,\u001B[49m\u001B[43mdt\u001B[49m\u001B[43m,\u001B[49m\u001B[43mv_0\u001B[49m\u001B[43m,\u001B[49m\u001B[43mr_0\u001B[49m\u001B[43m,\u001B[49m\u001B[43mrho_r\u001B[49m\u001B[43m,\u001B[49m\u001B[43mrho_v\u001B[49m\u001B[43m,\u001B[49m\u001B[43mnsteps\u001B[49m\u001B[43m,\u001B[49m\u001B[43mS0\u001B[49m\u001B[43m,\u001B[49m\u001B[43mK\u001B[49m\u001B[43m,\u001B[49m\u001B[43meta\u001B[49m\u001B[43m,\u001B[49m\u001B[43mgamma\u001B[49m\u001B[43m)\u001B[49m\n",
      "Input \u001B[1;32mIn [28]\u001B[0m, in \u001B[0;36msimulation_path\u001B[1;34m(d, dt, v_0, r_0, rho_r, rho_v, nsteps, S0, K, eta, gamma)\u001B[0m\n\u001B[0;32m     68\u001B[0m VcMCb \u001B[38;5;241m=\u001B[39m cp\u001B[38;5;241m.\u001B[39mexp(\u001B[38;5;241m-\u001B[39mr_0[\u001B[38;5;241m1\u001B[39m]\u001B[38;5;241m*\u001B[39mT)\u001B[38;5;241m*\u001B[39mpayoffs_call;\n\u001B[0;32m     69\u001B[0m VpMCb \u001B[38;5;241m=\u001B[39m cp\u001B[38;5;241m.\u001B[39mexp(\u001B[38;5;241m-\u001B[39mr_0[\u001B[38;5;241m1\u001B[39m]\u001B[38;5;241m*\u001B[39mT)\u001B[38;5;241m*\u001B[39mpayoffs_put;\n\u001B[1;32m---> 70\u001B[0m \u001B[38;5;28;01mreturn\u001B[39;00m cp\u001B[38;5;241m.\u001B[39marray([\u001B[43mnp\u001B[49m\u001B[38;5;241;43m.\u001B[39;49m\u001B[43masscalar\u001B[49m\u001B[43m(\u001B[49m\u001B[43mVcMCb\u001B[49m\u001B[43m)\u001B[49m,np\u001B[38;5;241m.\u001B[39masscalar(VpMCb)])\n",
      "File \u001B[1;32m<__array_function__ internals>:5\u001B[0m, in \u001B[0;36masscalar\u001B[1;34m(*args, **kwargs)\u001B[0m\n",
      "\u001B[1;31mTypeError\u001B[0m: no implementation found for 'numpy.asscalar' on types that implement __array_function__: [<class 'cupy._core.core.ndarray'>]"
     ]
    }
   ],
   "source": [
    "simulation_path(d,dt,v_0,r_0,rho_r,rho_v,nsteps,S0,K,eta,gamma)"
   ],
   "metadata": {
    "collapsed": false,
    "pycharm": {
     "name": "#%%\n"
    }
   }
  },
  {
   "cell_type": "code",
   "execution_count": null,
   "outputs": [],
   "source": [],
   "metadata": {
    "collapsed": false,
    "pycharm": {
     "name": "#%%\n"
    }
   }
  }
 ],
 "metadata": {
  "kernelspec": {
   "display_name": "Python 3 (ipykernel)",
   "language": "python",
   "name": "python3"
  },
  "language_info": {
   "codemirror_mode": {
    "name": "ipython",
    "version": 3
   },
   "file_extension": ".py",
   "mimetype": "text/x-python",
   "name": "python",
   "nbconvert_exporter": "python",
   "pygments_lexer": "ipython3",
   "version": "3.9.12"
  }
 },
 "nbformat": 4,
 "nbformat_minor": 1
}