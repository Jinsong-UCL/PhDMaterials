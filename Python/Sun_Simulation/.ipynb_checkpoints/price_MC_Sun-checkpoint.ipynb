{
 "cells": [
  {
   "cell_type": "markdown",
   "metadata": {
    "pycharm": {
     "name": "#%% md\n"
    }
   },
   "source": [
    "Compute the Monte Carlo price of European options with the Sun Yu model"
   ]
  },
  {
   "cell_type": "code",
   "execution_count": 1,
   "metadata": {
    "pycharm": {
     "name": "#%%\n"
    }
   },
   "outputs": [],
   "source": [
    "import cupy as cp"
   ]
  },
  {
   "cell_type": "markdown",
   "metadata": {
    "pycharm": {
     "name": "#%% md\n"
    }
   },
   "source": [
    "## 1.1 Set default device as CUDA"
   ]
  },
  {
   "cell_type": "markdown",
   "metadata": {
    "pycharm": {
     "name": "#%% md\n"
    }
   },
   "source": [
    "## 1.2 Parameters of the model"
   ]
  },
  {
   "cell_type": "code",
   "execution_count": 2,
   "metadata": {
    "pycharm": {
     "name": "#%%\n"
    }
   },
   "outputs": [],
   "source": [
    "# Set parameter values for multifactor stochastic volatility model\n",
    "# Recchioni, Sun, An explicitly solvable Heston model with stochastic interest rate,\n",
    "# European Journal of Operational Research 249 (1), 359-377, 2016.\n",
    "\n",
    "# Market parameters\n",
    "S0 = 1; # spot exchange rate\n",
    "r_0 = cp.array([0.02,0.01]); # spot interest rates r_{i0},r_{j0}\n",
    "\n",
    "# Contract parameters\n",
    "T = 1; # maturity\n",
    "K = 1; # strike price\n",
    "\n",
    "# Model parameters\n",
    "\n",
    "param_alpha = 0.5;\n",
    "d = 2; # number of volatility factors\n",
    "\n",
    "# Volatility coefficients or weights\n",
    "a_i = cp.array([0.6650, 1.0985]);\n",
    "a_j = cp.array([1.6177, 1.3588]);\n",
    "\n",
    "# Mean-reversion rate (or strength) of the volatility\n",
    "chi = cp.array([0.9418,1.7909]);\n",
    "\n",
    "# Initial volatility\n",
    "v_0 = cp.array([0.1244,0.0391]);\n",
    "\n",
    "# Long-term average of the volatility\n",
    "v_bar = cp.array([0.037,0.0909]);\n",
    "\n",
    "# Volatility of volatility\n",
    "gamma = cp.array([0.4912,1]);\n",
    "\n",
    "# Interest rate coefficients or weights\n",
    "b_i = cp.array([1.0000004,0.000000]);\n",
    "b_j = cp.array([0.000000,0.0000006]);\n",
    "\n",
    "# Mean-reversion rate (or strength) of the interest rate\n",
    "Lambda = cp.array([0.01,0.02]); # lambda_i,lambda_j\n",
    "\n",
    "# Long-term average of the interest rate\n",
    "r_bar = cp.array([0.02,0.01]); # \\bar{r}_i,\\bar{r}_j\n",
    "\n",
    "# Volatility of the interest rate\n",
    "eta = cp.array([0.001,0.002]); # \\eta_i,\\eta_j\n",
    "\n",
    "# Correlations\n",
    "rho_v = cp.array([-0.5231,-0.398]);\n",
    "rho_r = cp.array([-0.23,-0.81]);"
   ]
  },
  {
   "cell_type": "markdown",
   "metadata": {
    "pycharm": {
     "name": "#%% md\n"
    }
   },
   "source": [
    "## 2.1 Monte Carlo simulation"
   ]
  },
  {
   "cell_type": "code",
   "execution_count": 3,
   "metadata": {
    "pycharm": {
     "name": "#%%\n"
    }
   },
   "outputs": [],
   "source": [
    "# Algorithm parameters\n",
    "nsteps = 10;\n",
    "nblocks = 20;\n",
    "npaths = 1000;"
   ]
  },
  {
   "cell_type": "code",
   "execution_count": null,
   "metadata": {
    "pycharm": {
     "name": "#%%\n"
    }
   },
   "outputs": [
    {
     "name": "stderr",
     "output_type": "stream",
     "text": [
      "C:\\Users\\Jinsong\\AppData\\Local\\Temp\\ipykernel_15972\\2849597233.py:1: UserWarning: The numpy.array_api submodule is still experimental. See NEP 47.\n",
      "  from cupy.array_api import float32\n"
     ]
    },
    {
     "name": "stdout",
     "output_type": "stream",
     "text": [
      "0\n",
      "1\n",
      "2\n",
      "3\n",
      "4\n"
     ]
    }
   ],
   "source": [
    "from cupy.array_api import float32\n",
    "\n",
    "# Monte Carlo\n",
    "dt = T/nsteps;\n",
    "VcMC = cp.zeros((nblocks,1), dtype=float32);\n",
    "VpMC = cp.zeros((nblocks,1), dtype=float32);\n",
    "for block in range (nblocks):\n",
    "    MC_result = cp.zeros((nsteps+1,npaths), dtype=float32);\n",
    "    VcMCb = cp.zeros((1,npaths), dtype=float32);\n",
    "    VpMCb = cp.zeros((1,npaths), dtype=float32);\n",
    "    for path in range(npaths):\n",
    "        # Increments of the arithmetic Brownian motion X(t) = log(S(t)/S(0))\n",
    "        # dX = muABM*dt + sigma*sqrt(dt)*randn(ndates,nsample);\n",
    "        # dS/S = (r_0 - r_i)*dt - a_i * diag_v^0.5 * dW_v - b_i * diag_r^alpha * dW_r\n",
    "\n",
    "        # Generate a random path using the above model\n",
    "        # Volatility part\n",
    "        # Model variables\n",
    "        v = cp.zeros((nsteps+1,d), dtype=float32);\n",
    "        v[0,] = v_0;\n",
    "        # corr (dW_v, dZ_v) = rho_v\n",
    "        dW_v_1 = cp.random.randn(nsteps,d, dtype=float32);\n",
    "        dW_v_2 = cp.random.randn(nsteps,d, dtype=float32);\n",
    "        dW_v_3 = cp.matmul(dW_v_1,cp.diag(rho_v)) + cp.matmul(dW_v_2,cp.diag((1-rho_v**2)**0.5));\n",
    "\n",
    "        dW_v = dW_v_1 * cp.sqrt(dt);\n",
    "        dZ_v = dW_v_3 * cp.sqrt(dt);\n",
    "\n",
    "        v_ref = cp.zeros((1,d), dtype=float32);\n",
    "        # dv = chi * (v_bar - v) * dt + gamma * \\sqrt(v) * dZ_v\n",
    "        for steps in range(nsteps):\n",
    "            v[steps+1,] = cp.maximum(v[steps,] + cp.matmul((v_bar - v[steps,]) , cp.diag(chi)) * dt\n",
    "                              + cp.matmul(cp.sqrt(v[steps,]) * dZ_v[steps,], cp.diag(gamma)),v_ref);\n",
    "\n",
    "        # Interest rate part\n",
    "        # Model variables\n",
    "        r = cp.zeros((nsteps+1,2), dtype=float32);\n",
    "        r[0,] = r_0;\n",
    "\n",
    "        # corr (dW_r_i, dZ_r_i) = rho_r_i\n",
    "        dW_r_1 = cp.random.randn(nsteps,2, dtype=float32);\n",
    "        dW_r_2 = cp.random.randn(nsteps,2, dtype=float32);\n",
    "        dW_r_3 = cp.matmul(dW_r_1,cp.diag(rho_r)) + cp.matmul(dW_r_2,cp.diag((1-rho_r**2)**0.5));\n",
    "\n",
    "        dW_r = dW_r_1 * cp.sqrt(dt);\n",
    "        dZ_r = dW_r_3 * cp.sqrt(dt);\n",
    "\n",
    "        r_ref = cp.zeros((1,2));\n",
    "        # dr = lambda * (r_bar - r) * dt + eta * r^alpha * dZ_r\n",
    "        for steps in range(nsteps):\n",
    "            r[steps+1,] = cp.maximum(r[steps,] + cp.matmul((r_bar - r[steps,]) , cp.diag(Lambda)) * dt\n",
    "                              + cp.matmul(cp.sqrt(r[steps,]) * dZ_r[steps,], cp.diag(eta)),r_ref);\n",
    "\n",
    "        sum_v_1 = cp.zeros((nsteps,1), dtype=float32);\n",
    "        sum_v_2 = cp.zeros((nsteps,1), dtype=float32);\n",
    "        sum_r_1 = cp.zeros((nsteps,1), dtype=float32);\n",
    "        sum_r_2 = cp.zeros((nsteps,1), dtype=float32);\n",
    "        mu = cp.zeros((nsteps,1), dtype=float32);\n",
    "        x = cp.zeros((nsteps+1,1), dtype=float32);\n",
    "\n",
    "        # Valuation for dx\n",
    "        for steps in range(nsteps):\n",
    "            # Block for MuYu\n",
    "            # sum_v_1(steps) = (a_i(1)^2 - a_j(1)^2) * v_1(steps) + (a_i(2)^2 - a_j(2)^2) * v_2(steps);\n",
    "            sum_v_1[steps] = cp.matmul(v[steps,] , (a_i**2 - a_j**2));\n",
    "            # sum_r_1(steps) = b_i^2 * r_i(steps)^(2*param_alpha) - b_j^2 * r_j(steps)^(2*param_alpha);\n",
    "            sum_r_1[steps] = cp.matmul(r[steps,] , (b_i**2 - b_j**2));\n",
    "\n",
    "            mu[steps] = r[steps,0] - r[steps,1] + 0.5 * (sum_v_1[steps] + sum_r_1[steps]);\n",
    "\n",
    "            # Block for v\n",
    "            sum_v_2[steps] = cp.matmul(v[steps,:]**0.5 * dW_v[steps,] , (a_i-a_j));###\n",
    "\n",
    "            # Block for r\n",
    "            sum_r_2[steps] = cp.matmul(r[steps,]**param_alpha * dW_r[steps,],(b_i-b_j));###\n",
    "\n",
    "            # dx = (r_0 - r_i)*dt - a_i * diag_v^0.5 * dW_v - b_i * diag_r^alpha * dW_r\n",
    "            x[steps+1] = x[steps] + mu[steps]*dt + sum_v_2[steps] + sum_r_2[steps];\n",
    "\n",
    "        # Calculate the Smax and Smin\n",
    "\n",
    "        S_end = S0*cp.exp(x[-1]);\n",
    "\n",
    "        payoffs_call = max(S_end - K,0);\n",
    "        payoffs_put = max(K - S_end,0);\n",
    "\n",
    "        VcMCb[0,path] = cp.exp(-r_0[1]*T)*payoffs_call;\n",
    "        VpMCb[0,path] = cp.exp(-r_0[1]*T)*payoffs_put;\n",
    "\n",
    "       # MC_result(1:nsteps+1,path) = S0*exp(x_i_j);\n",
    "\n",
    "    VcMC[block] = cp.mean(VcMCb);\n",
    "    VpMC[block] = cp.mean(VpMCb);\n",
    "    print(block);\n",
    "\n",
    "\n",
    "VcMC_result = cp.mean(VcMC);\n",
    "VpMC_result = cp.mean(VpMC);\n",
    "scMC = cp.sqrt(cp.var(VcMC)/nblocks);\n",
    "spMC = cp.sqrt(cp.var(VpMC)/nblocks);"
   ]
  },
  {
   "cell_type": "markdown",
   "metadata": {
    "pycharm": {
     "name": "#%% md\n"
    }
   },
   "source": []
  },
  {
   "cell_type": "code",
   "execution_count": null,
   "metadata": {
    "pycharm": {
     "name": "#%%\n"
    }
   },
   "outputs": [],
   "source": [
    "VcMC_result\n"
   ]
  },
  {
   "cell_type": "code",
   "execution_count": null,
   "metadata": {
    "pycharm": {
     "name": "#%%\n"
    }
   },
   "outputs": [],
   "source": [
    "VpMC_result"
   ]
  },
  {
   "cell_type": "code",
   "execution_count": null,
   "metadata": {
    "pycharm": {
     "name": "#%%\n"
    }
   },
   "outputs": [],
   "source": []
  }
 ],
 "metadata": {
  "kernelspec": {
   "display_name": "Python 3 (ipykernel)",
   "language": "python",
   "name": "python3"
  },
  "language_info": {
   "codemirror_mode": {
    "name": "ipython",
    "version": 3
   },
   "file_extension": ".py",
   "mimetype": "text/x-python",
   "name": "python",
   "nbconvert_exporter": "python",
   "pygments_lexer": "ipython3",
   "version": "3.9.12"
  }
 },
 "nbformat": 4,
 "nbformat_minor": 1
}
