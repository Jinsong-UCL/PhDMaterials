{
 "cells": [
  {
   "cell_type": "markdown",
   "metadata": {
    "collapsed": true,
    "pycharm": {
     "name": "#%% md\n"
    }
   },
   "source": [
    "# Matrix based multi-factor Heston model"
   ]
  },
  {
   "cell_type": "markdown",
   "source": [
    "## Chapter 1 Preparations"
   ],
   "metadata": {
    "collapsed": false
   }
  },
  {
   "cell_type": "markdown",
   "source": [
    "#### Import libraries:"
   ],
   "metadata": {
    "collapsed": false
   }
  },
  {
   "cell_type": "code",
   "execution_count": null,
   "outputs": [],
   "source": [
    "import math\n",
    "\n",
    "from mpl_toolkits.mplot3d import Axes3D # for 3D plots\n",
    "import matplotlib.pyplot as plt # for 2D plots\n",
    "\n",
    "# Basic stats libraries\n",
    "import numpy as np\n",
    "import statsmodels\n",
    "import scipy.fftpack as fft\n",
    "from scipy.linalg import cholesky\n",
    "from math import exp, log, sqrt, pi\n",
    "\n",
    "# Random number generator\n",
    "from numpy import random\n",
    "random.seed(seed=17001116)\n",
    "\n",
    "# Compute the time costs\n",
    "import time\n",
    "#start_time = time.time()\n"
   ],
   "metadata": {
    "collapsed": false,
    "pycharm": {
     "name": "#%%\n"
    }
   }
  },
  {
   "cell_type": "markdown",
   "source": [
    "## Chapter 2 Models"
   ],
   "metadata": {
    "collapsed": false,
    "pycharm": {
     "name": "#%% md\n"
    }
   }
  },
  {
   "cell_type": "markdown",
   "source": [
    "### Smile all around (De Col_2013)\n",
    "\\begin{align}\n",
    "\\frac{\\mathrm{d} S^{0, i}(t)}{S^{0, i}(t)} &=\\left(r^{0}-r^{i}\\right) \\mathrm{~d}t-\\left(\\mathbf{a}^{i}\\right)^{\\top} \\sqrt{\\operatorname{Diag}(\\mathbf{v}(t))} \\mathrm{~d} \\mathbf{W}(t), \\quad i=1, \\ldots, N \\\\\n",
    "\\mathrm{d} v_{n}(t)&=\\chi_{n}\\left(\\overline{v_{n}}-v_{n}(t)\\right) \\mathrm{~d} t+\\gamma_{n} \\sqrt{v_{n}(t)} \\mathrm{~d} Z_{n}(t), \\quad n=1, \\ldots, d\n",
    "\\end{align}"
   ],
   "metadata": {
    "collapsed": false,
    "pycharm": {
     "name": "#%% md\n"
    }
   }
  },
  {
   "cell_type": "markdown",
   "source": [
    "### Yu Sun\n",
    "\n",
    "\\begin{align}\n",
    "\\frac{\\mathrm{d} S^{0, i}(t)}{S^{0, i}(t)} &=\\left(r^{0}-r^{i}\\right) \\mathrm{~d}t-\\left(\\mathbf{a}^{i}\\right)^{\\top} \\sqrt{\\operatorname{Diag}(\\mathbf{v}(t))} \\mathrm{~d} \\mathbf{W}^v(t)\n",
    "-\\left(\\mathbf{b}^{i}\\right)^{\\top} \\left[{\\operatorname{Diag}(\\mathbf{r}(t))}\\right]^\\alpha \\mathrm{~d} \\mathbf{W}^r(t), \\quad i=1, \\ldots, N \\\\\n",
    "\\mathrm{d} v_{n}(t)&=\\chi_{n}\\left(\\overline{v_{n}}-v_{n}(t)\\right) \\mathrm{~d} t+\\gamma_{n} \\sqrt{v_{n}(t)} \\mathrm{~d} Z^v_{n}(t), \\quad n=\\{1, \\ldots, d\\}\\\\\n",
    "\\mathrm{d}  r_{m}(t)&=\\lambda_{m}\\left(\\overline{r_{m}}-r_{m}(t)\\right) \\mathrm{~d} t+\\eta_{m} r_{m}^{\\alpha}(t) \\mathrm{~d} Z_{m}^{r}(t)), \\quad m=\\{0,i\\}\n",
    "\\end{align}"
   ],
   "metadata": {
    "collapsed": false,
    "pycharm": {
     "name": "#%% md\n"
    }
   }
  }
 ],
 "metadata": {
  "kernelspec": {
   "name": "pycharm-a7fc6b7a",
   "language": "python",
   "display_name": "PyCharm (FX_Multi)"
  },
  "language_info": {
   "codemirror_mode": {
    "name": "ipython",
    "version": 2
   },
   "file_extension": ".py",
   "mimetype": "text/x-python",
   "name": "python",
   "nbconvert_exporter": "python",
   "pygments_lexer": "ipython2",
   "version": "2.7.6"
  }
 },
 "nbformat": 4,
 "nbformat_minor": 0
}