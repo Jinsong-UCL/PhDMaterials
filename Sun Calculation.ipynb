{
 "cells": [
  {
   "cell_type": "code",
   "execution_count": 1,
   "outputs": [],
   "source": [
    "import numpy as np\n",
    "from scipy.integrate import quad\n",
    "from scipy import *"
   ],
   "metadata": {
    "collapsed": false,
    "pycharm": {
     "name": "#%%\n"
    }
   }
  },
  {
   "cell_type": "markdown",
   "source": [
    "Sun model\n",
    "\n",
    "\\begin{align}\n",
    "\\frac{\\mathrm{d} S^{0, i}(t)}{S^{0, i}(t)} &=\\left(r^{0}-r^{i}\\right) \\mathrm{~d}t-\\left(\\mathbf{a}^{i}\\right)^{\\top} \\sqrt{\\operatorname{Diag}(\\mathbf{v}(t))} \\mathrm{~d} \\mathbf{W}^v(t)\n",
    "-\\left(\\mathbf{b}^{i}\\right)^{\\top} \\left[{\\operatorname{Diag}(\\mathbf{r}(t))}\\right]^\\alpha \\mathrm{~d} \\mathbf{W}^r(t), \\quad i=1, \\ldots, N \\\\\n",
    "\\mathrm{d} v_{n}(t)&=\\chi_{n}\\left(\\overline{v_{n}}-v_{n}(t)\\right) \\mathrm{~d} t+\\gamma_{n} \\sqrt{v_{n}(t)} \\mathrm{~d} Z^v_{n}(t), \\quad n=\\{1, \\ldots, d\\}\\\\\n",
    "\\mathrm{d}  r_{m}(t)&=\\lambda_{m}\\left(\\overline{r_{m}}-r_{m}(t)\\right) \\mathrm{~d} t+\\eta_{m} r_{m}^{\\alpha}(t) \\mathrm{~d} Z_{m}^{r}(t)), \\quad m=\\{0,i\\}\n",
    "\\end{align}"
   ],
   "metadata": {
    "collapsed": false
   }
  },
  {
   "cell_type": "markdown",
   "source": [
    "We need the following numbers first:\n",
    "\\begin{align}\n",
    "a_{n}^{i, j}=a_{n}^{i}-a_{n}^{j}\\\\\n",
    "\\tilde{a}_{n}^{i, j}=a_{n}^{i}+a_{n}^{j}\\\\\n",
    "\\tilde{\\rho}_{n, v}=\\rho_{n, v}\\left(a_{n}^{i}-a_{n}^{j}\\right)\n",
    "\\end{align}"
   ],
   "metadata": {
    "collapsed": false
   }
  },
  {
   "cell_type": "code",
   "execution_count": 2,
   "outputs": [],
   "source": [
    "param_alpha = 0; #or param_alpha = 0.5\n",
    "d = 2; # dimention of n, need to be decided\n",
    "\n",
    "\n",
    "# parameters provided by Guido\n",
    "a_i = np.array([0.2, 0.8]);\n",
    "a_j = np.array([0.3, 0.7]);\n",
    "b_i = 0.4;\n",
    "b_j = 0.6;\n",
    "\n",
    "\n",
    "# Data below are from Recchioni_2016\n",
    "r_bar_i = 0.02;\n",
    "r_bar_j = 0.00044;\n",
    "v_bar_1 = 0.05;\n",
    "v_bar_2 = 0.0345;\n",
    "\n",
    "chi_1 = 0.3;\n",
    "chi_2 = 0.65;\n",
    "gamma_1 = 0.6;\n",
    "gamma_2 = 0.018;\n",
    "lambda_i = 0.01;\n",
    "lambda_j = 3.62;\n",
    "eta_i = 0.01;\n",
    "eta_j = 0.0098;\n",
    "\n",
    "\n",
    "\n",
    "# Contract parameters\n",
    "T = 1; # maturity\n",
    "K = 1; # strike price\n",
    "nsteps = 50000; # monitoring dates\n",
    "dt = T/nsteps;\n",
    "\n",
    "# Market parameters\n",
    "S0 = 1; # spot price\n",
    "v_1_0 = 0.05;\n",
    "v_2_0 = 0.089;\n",
    "r_i_0 = 0.09; # interest rate\n",
    "r_j_0 = 0.09; # interest rate\n",
    "\n",
    "\n",
    "# Random numbers\n",
    "rho_v_1 = -0.3;\n",
    "rho_v_2 = -0.97;\n",
    "rho_r_i = -0.23;\n",
    "rho_r_j = -0.81;\n",
    "\n",
    "\n",
    "\n",
    "# calculation of the above box\n",
    "a_i_j = a_i - a_j\n",
    "tilde_a_i_j = a_i + a_j\n",
    "tilde_rho_v = rho_v * (a_i_j)\n"
   ],
   "metadata": {
    "collapsed": false,
    "pycharm": {
     "name": "#%%\n"
    }
   }
  },
  {
   "cell_type": "markdown",
   "source": [
    "Then we can have\n",
    "\\begin{align}\n",
    "\\mu_{q, v_{n}}=-\\frac{1}{2}\\left(\\chi_{n}+(\\imath k-q) \\gamma_{n} \\tilde{\\rho}_{n, v}\\right)\\\\\n",
    "\\varphi_{q}^{v_{n}}(k)=\\frac{k^{2}}{2}-\\frac{1}{2}\\left[\\left(q^{2}+q \\frac{\\tilde{a}_{n}^{i, j}}{a_{n}^{i, j}}\\right)-\\imath k\\left(2 q+\\frac{\\tilde{a}_{n}^{i, j}}{a_{n}^{i, j}}\\right)\\right]\\\\\n",
    "\\zeta_{q, v_{n}}=\\frac{1}{2}\\left[4 \\mu_{q,v_{n}}^{2}+2 \\gamma_{n}^{2} \\varphi_{q}^{v_{n}}(k)\\left(a_{n}^{i, j}\\right)^{2}\\right]^{1 / 2}\\\\\n",
    "\\end{align}"
   ],
   "metadata": {
    "collapsed": false,
    "pycharm": {
     "name": "#%% md\n"
    }
   }
  },
  {
   "cell_type": "code",
   "execution_count": 3,
   "outputs": [
    {
     "ename": "NameError",
     "evalue": "name 'n' is not defined",
     "output_type": "error",
     "traceback": [
      "\u001B[0;31m---------------------------------------------------------------------------\u001B[0m",
      "\u001B[0;31mNameError\u001B[0m                                 Traceback (most recent call last)",
      "\u001B[0;32m/var/folders/k5/12s0snb908j91jf4vpxpqd7c0000gn/T/ipykernel_3746/2822909559.py\u001B[0m in \u001B[0;36m<module>\u001B[0;34m\u001B[0m\n\u001B[1;32m     14\u001B[0m \u001B[0;31m# calculation of the above box\u001B[0m\u001B[0;34m\u001B[0m\u001B[0;34m\u001B[0m\u001B[0m\n\u001B[1;32m     15\u001B[0m \u001B[0mmu_q_v\u001B[0m \u001B[0;34m=\u001B[0m \u001B[0;34m-\u001B[0m\u001B[0;36m0.5\u001B[0m\u001B[0;34m*\u001B[0m \u001B[0;34m(\u001B[0m\u001B[0mchi\u001B[0m \u001B[0;34m+\u001B[0m \u001B[0;34m(\u001B[0m\u001B[0mcomplex\u001B[0m\u001B[0;34m(\u001B[0m\u001B[0;36m0\u001B[0m\u001B[0;34m,\u001B[0m\u001B[0;36m1\u001B[0m\u001B[0;34m)\u001B[0m \u001B[0;34m*\u001B[0m \u001B[0mk\u001B[0m \u001B[0;34m-\u001B[0m \u001B[0mq\u001B[0m\u001B[0;34m)\u001B[0m\u001B[0;34m)\u001B[0m \u001B[0;34m*\u001B[0m \u001B[0mgamma\u001B[0m \u001B[0;34m*\u001B[0m \u001B[0mtilde_rho_v\u001B[0m\u001B[0;34m\u001B[0m\u001B[0;34m\u001B[0m\u001B[0m\n\u001B[0;32m---> 16\u001B[0;31m \u001B[0mphi_v_q\u001B[0m\u001B[0;34m[\u001B[0m\u001B[0mk\u001B[0m\u001B[0;34m]\u001B[0m \u001B[0;34m=\u001B[0m \u001B[0mk\u001B[0m\u001B[0;34m**\u001B[0m\u001B[0;36m2\u001B[0m\u001B[0;34m/\u001B[0m\u001B[0;36m2\u001B[0m \u001B[0;34m-\u001B[0m \u001B[0;36m0.5\u001B[0m \u001B[0;34m*\u001B[0m \u001B[0;34m(\u001B[0m\u001B[0;34m(\u001B[0m\u001B[0mq\u001B[0m\u001B[0;34m**\u001B[0m\u001B[0;36m2\u001B[0m\u001B[0;34m+\u001B[0m \u001B[0mq\u001B[0m \u001B[0;34m*\u001B[0m \u001B[0mtilde_a_i_j\u001B[0m\u001B[0;34m[\u001B[0m\u001B[0mn\u001B[0m\u001B[0;34m]\u001B[0m\u001B[0;34m/\u001B[0m\u001B[0ma_i_j\u001B[0m\u001B[0;34m[\u001B[0m\u001B[0mn\u001B[0m\u001B[0;34m]\u001B[0m\u001B[0;34m)\u001B[0m\u001B[0;34m-\u001B[0m \u001B[0mcomplex\u001B[0m\u001B[0;34m(\u001B[0m\u001B[0;36m0\u001B[0m\u001B[0;34m,\u001B[0m\u001B[0;36m1\u001B[0m\u001B[0;34m)\u001B[0m\u001B[0;34m*\u001B[0m \u001B[0mk\u001B[0m \u001B[0;34m*\u001B[0m\u001B[0;34m(\u001B[0m\u001B[0;36m2\u001B[0m\u001B[0;34m*\u001B[0m\u001B[0mq\u001B[0m \u001B[0;34m+\u001B[0m \u001B[0mtilde_a_i_j\u001B[0m\u001B[0;34m[\u001B[0m\u001B[0mn\u001B[0m\u001B[0;34m]\u001B[0m\u001B[0;34m/\u001B[0m\u001B[0ma_i_j\u001B[0m\u001B[0;34m[\u001B[0m\u001B[0mn\u001B[0m\u001B[0;34m]\u001B[0m\u001B[0;34m)\u001B[0m\u001B[0;34m)\u001B[0m\u001B[0;34m\u001B[0m\u001B[0;34m\u001B[0m\u001B[0m\n\u001B[0m\u001B[1;32m     17\u001B[0m \u001B[0mzeta_q_v\u001B[0m \u001B[0;34m=\u001B[0m \u001B[0;36m0.5\u001B[0m \u001B[0;34m*\u001B[0m \u001B[0;34m(\u001B[0m\u001B[0;36m4\u001B[0m \u001B[0;34m*\u001B[0m \u001B[0mmu_q_v\u001B[0m \u001B[0;34m*\u001B[0m \u001B[0mmu_q_v\u001B[0m \u001B[0;34m+\u001B[0m \u001B[0;36m2\u001B[0m \u001B[0;34m*\u001B[0m \u001B[0mgamma\u001B[0m\u001B[0;34m*\u001B[0m \u001B[0mgamma\u001B[0m \u001B[0;34m*\u001B[0m \u001B[0mphi_v_q\u001B[0m\u001B[0;34m[\u001B[0m\u001B[0mk\u001B[0m\u001B[0;34m]\u001B[0m \u001B[0;34m*\u001B[0m \u001B[0ma_i_j\u001B[0m\u001B[0;34m[\u001B[0m\u001B[0mn\u001B[0m\u001B[0;34m]\u001B[0m\u001B[0;34m**\u001B[0m\u001B[0;36m2\u001B[0m\u001B[0;34m)\u001B[0m\u001B[0;34m**\u001B[0m\u001B[0;36m0.5\u001B[0m\u001B[0;34m\u001B[0m\u001B[0;34m\u001B[0m\u001B[0m\n",
      "\u001B[0;31mNameError\u001B[0m: name 'n' is not defined"
     ]
    }
   ],
   "source": [
    "# What is k???\n",
    "k = 1\n",
    "\n",
    "# parameter /chi  and /gamma for the volatility\n",
    "chi = np.zeros(d)\n",
    "gamma = np.zeros(d)\n",
    "\n",
    "# parameter q why it is 2 and -2\n",
    "q = 2\n",
    "\n",
    "# what is the dimension of phi?????\n",
    "phi_v_q = np.zeros(d)\n",
    "\n",
    "# calculation of the above box\n",
    "mu_q_v = -0.5* (chi + (complex(0,1) * k - q)) * gamma * tilde_rho_v\n",
    "phi_v_q[k] = k**2/2 - 0.5 * ((q**2+ q * tilde_a_i_j[n]/a_i_j[n])- complex(0,1)* k *(2*q + tilde_a_i_j[n]/a_i_j[n]))\n",
    "zeta_q_v = 0.5 * (4 * mu_q_v * mu_q_v + 2 * gamma* gamma * phi_v_q[k] * a_i_j[n]**2)**0.5"
   ],
   "metadata": {
    "collapsed": false,
    "pycharm": {
     "name": "#%%\n"
    }
   }
  },
  {
   "cell_type": "markdown",
   "source": [
    "Then we have\n",
    "\\begin{align}\n",
    "s_{q, v_{n}, g} &=1-e^{-2 \\zeta_{q, v_{n}} \\tau} \\\\\n",
    "s_{q, v_{n}, b} &=\\left(\\zeta_{q, v_{n}}+\\mu_{q, v_{n}}\\right) e^{-2 \\zeta_{q, v_{n}} \\tau}+\\left(\\zeta_{q, v_{n}}-\\mu_{q, v_{n}}\\right)\n",
    "\\end{align}"
   ],
   "metadata": {
    "collapsed": false
   }
  },
  {
   "cell_type": "code",
   "execution_count": null,
   "outputs": [],
   "source": [
    "# what is tau in this calculation?????\n",
    "# T is the strike time\n",
    "T = 0.0\n",
    "tau = T- 0\n",
    "\n",
    "s_q_v_g = 1 - np.exp(-2 * zeta_q_v * tau)\n",
    "s_q_v_b = (zeta_q_v+ mu_q_v) * np.exp(-2 * zeta_q_v * tau) + zeta_q_v - mu_q_v"
   ],
   "metadata": {
    "collapsed": false,
    "pycharm": {
     "name": "#%%\n"
    }
   }
  },
  {
   "cell_type": "markdown",
   "source": [
    "\\begin{equation}\n",
    "\n",
    "\\underline{W{v, q}^{0(Q)}}\\left(t^{\\prime}-t, \\underline{v}, k ; \\underline{\\Theta{v}}\\right)=e^{-\\sum{n=1}^{d}\\left(2 \\chi{n}^{Q} v{n}^{*(Q)} / \\gamma{n}^{2}\\right) \\ln \\left(s{q, v{n}, b} / 2 \\zeta{q, v{n}}\\right)} e^{-\\sum{n=1}^{d}\\left(2 \\chi{n}^{Q} v{n}^{*(Q)} / \\gamma{n}^{2}\\right)\\left(\\mu{q, v{n}}+\\zeta{q, v{n}}\\right) T} e^{-\\sum{n=1}^{d}\\left(2 v{n}(0) / \\gamma{n}^{2}\\right)\\left(\\zeta{q, v{n}}^{2}-\\mu{q, v{n}}^{2}\\right) s{q, v{n}, g} / s{q, v_{n}, b}}\n",
    "\n",
    "\\end{equation}"
   ],
   "metadata": {
    "collapsed": false
   }
  },
  {
   "cell_type": "code",
   "execution_count": null,
   "outputs": [],
   "source": [
    "# volatility\n",
    "v = np.zeros(T)\n",
    "\n",
    "# calculation of the above box\n",
    "\n",
    "# sum the exponential one by one\n",
    "sum_1 = 0\n",
    "for n in range(d):\n",
    "    sum_1 = sum_1 + (2 * chi[n] * v[n] / (gamma[n]**2)) * np.log(s_q_v_b[n] / (2 * zeta_q_v[n]))\n",
    "sum_2 = 0\n",
    "for n in range(d):\n",
    "    sum_2 = sum_2 + (2 * chi[n] * v[n] / (gamma[n]**2)) * (mu_q_v[n]+ zeta_q_v[n]) * T\n",
    "sum_3 = 0\n",
    "for n in range(d):\n",
    "    sum_3 = sum_3 + (2 * v[n] / (gamma[n]**2)) * (zeta_q_v[n]**2 - mu_q_v[n]**2) * s_q_v_g[n] / s_q_v_b[n]\n",
    "underline_W_q_v = np.exp(-sum_1) * np.exp(-sum_2) * np.exp(-sum_3)"
   ],
   "metadata": {
    "collapsed": false,
    "pycharm": {
     "name": "#%%\n"
    }
   }
  },
  {
   "cell_type": "markdown",
   "source": [
    "[H]By taking $a^{i, j} \\rightarrow 0^{+}$, $\\lambda_{m} \\rightarrow 0^{+}$, $\\eta_{n} \\rightarrow 0^{+}$, we can have the call option in the case $q=2$\n",
    "\\begin{equation}\n",
    "     C_{H}\\left(S_{0}^{i, j}, T, E, \\underline{r_{0}}, \\underline{v_{0}}\\right) = e^{-r_{i}(0) T} e^{2 r_{i}(0) T} \\frac{S_{0}^{i, j}}{2 \\pi} \\int^{+\\infty}_{-\\infty} d k \\frac{\\left(\\frac{S_{0}^{i, j}}{E}\\right)^{(1-\\imath k)} e^{-\\imath k r_{i}(0) T}}{-k^{2}-3 \\imath k+2} \\underline{W_{v, q}^{0(Q)}}\\left(t^{\\prime}-t, \\underline{v}, k ; \\underline{\\Theta_{r}}\\right)\n",
    "\\end{equation}\n",
    "\n"
   ],
   "metadata": {
    "collapsed": false
   }
  },
  {
   "cell_type": "code",
   "execution_count": null,
   "outputs": [],
   "source": [
    "# strike price E, maturity time T\n",
    "r_i = np.zeros(T)\n",
    "S_i_j = np.zeros(T)\n",
    "E = 0.0\n",
    "\n",
    "call_option_multiplier = np.exp(- r_i[0] * T) * np.exp(2* r_i[0] * T) * S_i_j[0] / (2 * np.pi)\n",
    "call_option_integrand = d * k * ((S_i_j[0]/ E)**(1-complex(0,1)*k)*np.exp(-complex(0,1)*k*r_i[0]*T)) * underline_W_q_v / (-k**2 -3*k *complex(0,1) + 2)\n",
    "call_option_integration = quad(call_option_integrand,-np.inf,np.inf)\n",
    "call_option = call_option_multiplier * call_option_integration"
   ],
   "metadata": {
    "collapsed": false,
    "pycharm": {
     "name": "#%%\n"
    }
   }
  },
  {
   "cell_type": "markdown",
   "source": [
    "[H]and the put option when $q = -2$\n",
    "\\begin{equation}\n",
    "     P_{H}\\left(S_{0}^{i, j}, T, E, \\underline{r}_{0}, \\underline{v_{0}}\\right) =e^{-r_{i}(0) T} e^{-2 r_{i}(0) T} \\frac{S_{0}^{i, j}}{2 \\pi} \\int_{-\\infty}^{+\\infty} d k \\frac{\\left(\\frac{S_{0}^{i, j}}{E}\\right)^{-(3+\\imath k)} e^{-\\imath k r_{i}(0) T}}{-k^{2}+5 \\imath k+6} \\underline{W_{v, q}^{0(Q)}}{\\left(t^{\\prime}-t, \\underline{v}, k ; \\underline{\\Theta_{r}}\\right)}\n",
    "\\end{equation}"
   ],
   "metadata": {
    "collapsed": false,
    "pycharm": {
     "name": "#%% md\n"
    }
   }
  },
  {
   "cell_type": "code",
   "execution_count": null,
   "outputs": [],
   "source": [
    "put_option_multiplier = np.exp(- r_i[0] * T) * np.exp(2* r_i[0] * T) * S_i_j[0] / (2 * np.pi)\n",
    "put_option_integrand = d * k * ((S_i_j[0]/ E)**(-3-complex(0,1)*k)*np.exp(-complex(0,1)*k*r_i[0]*T)) * underline_W_q_v / (-k**2 +5*k *complex(0,1) + 6)\n",
    "put_option_integration = quad(put_option_integrand,-np.inf, np.inf)\n",
    "put_option = put_option_multiplier * put_option_integration"
   ],
   "metadata": {
    "collapsed": false,
    "pycharm": {
     "name": "#%%\n"
    }
   }
  }
 ],
 "metadata": {
  "kernelspec": {
   "display_name": "Python 3",
   "language": "python",
   "name": "python3"
  },
  "language_info": {
   "codemirror_mode": {
    "name": "ipython",
    "version": 2
   },
   "file_extension": ".py",
   "mimetype": "text/x-python",
   "name": "python",
   "nbconvert_exporter": "python",
   "pygments_lexer": "ipython2",
   "version": "2.7.6"
  }
 },
 "nbformat": 4,
 "nbformat_minor": 0
}